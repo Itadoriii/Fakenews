{
  "cells": [
    {
      "cell_type": "code",
      "execution_count": 1,
      "id": "ea58f493",
      "metadata": {
        "id": "ea58f493"
      },
      "outputs": [
        {
          "name": "stderr",
          "output_type": "stream",
          "text": [
            "C:\\Users\\sebas\\AppData\\Roaming\\Python\\Python312\\site-packages\\tqdm\\auto.py:21: TqdmWarning: IProgress not found. Please update jupyter and ipywidgets. See https://ipywidgets.readthedocs.io/en/stable/user_install.html\n",
            "  from .autonotebook import tqdm as notebook_tqdm\n"
          ]
        }
      ],
      "source": [
        "# Procesamiento de datos\n",
        "import pandas as pd\n",
        "import numpy as np\n",
        "import re\n",
        "\n",
        "# Visualización\n",
        "import matplotlib.pyplot as plt\n",
        "import seaborn as sns\n",
        "\n",
        "# Preprocesamiento y modelado clásico\n",
        "from sklearn.preprocessing import StandardScaler, OneHotEncoder\n",
        "from sklearn.impute import SimpleImputer\n",
        "from sklearn.model_selection import train_test_split\n",
        "from sklearn.utils import shuffle\n",
        "from sklearn.neural_network import MLPClassifier\n",
        "from sklearn.metrics import classification_report, accuracy_score\n",
        "\n",
        "# Deep Learning con Keras\n",
        "from tensorflow.keras.models import Sequential, load_model\n",
        "from tensorflow.keras.layers import Dense, Dropout\n",
        "\n",
        "# Transformers y Deep Learning con PyTorch\n",
        "import torch\n",
        "from transformers import DistilBertTokenizer, DistilBertModel\n",
        "\n",
        "# Barra de progreso\n",
        "from tqdm import tqdm"
      ]
    },
    {
      "cell_type": "code",
      "execution_count": 2,
      "id": "f14ddd73",
      "metadata": {
        "colab": {
          "base_uri": "https://localhost:8080/",
          "height": 304
        },
        "id": "f14ddd73",
        "outputId": "d3c44f57-6f4a-4110-fd29-56fcc51ab6aa"
      },
      "outputs": [],
      "source": [
        "df = pd.read_csv(fr'noticias_limpias_balanceadas2.csv')\n",
        "df_diccionario = pd.read_csv(fr'diccionario.csv')"
      ]
    },
    {
      "cell_type": "code",
      "execution_count": 3,
      "id": "ebc6e29a",
      "metadata": {
        "id": "ebc6e29a"
      },
      "outputs": [
        {
          "name": "stdout",
          "output_type": "stream",
          "text": [
            "<class 'pandas.core.frame.DataFrame'>\n",
            "RangeIndex: 6800 entries, 0 to 6799\n",
            "Data columns (total 5 columns):\n",
            " #   Column     Non-Null Count  Dtype \n",
            "---  ------     --------------  ----- \n",
            " 0   titulo     6800 non-null   object\n",
            " 1   autor      6800 non-null   object\n",
            " 2   fecha      6800 non-null   object\n",
            " 3   contenido  6800 non-null   object\n",
            " 4   label      6800 non-null   int64 \n",
            "dtypes: int64(1), object(4)\n",
            "memory usage: 265.8+ KB\n"
          ]
        }
      ],
      "source": [
        "df.info()"
      ]
    },
    {
      "cell_type": "code",
      "execution_count": 4,
      "id": "0370d21d",
      "metadata": {
        "id": "0370d21d"
      },
      "outputs": [],
      "source": [
        "df_metadata = df.copy()\n",
        "df_heuristica = df.copy()"
      ]
    },
    {
      "cell_type": "markdown",
      "id": "50946a40",
      "metadata": {
        "id": "50946a40"
      },
      "source": [
        "Reglas Heuristicas"
      ]
    },
    {
      "cell_type": "code",
      "execution_count": 6,
      "id": "f0ba690e",
      "metadata": {
        "id": "f0ba690e"
      },
      "outputs": [],
      "source": [
        "def construir_diccionario_emocional(df_diccionario):\n",
        "    emociones = df_diccionario.columns[1:]  # Todas menos 'palabra'\n",
        "    diccionario_emocional = {}\n",
        "    for _, fila in df_diccionario.iterrows():\n",
        "        palabra = fila['palabra']\n",
        "        emociones_asociadas = [emocion for emocion in emociones if fila[emocion] == 1]\n",
        "        if emociones_asociadas:\n",
        "            diccionario_emocional[palabra] = emociones_asociadas\n",
        "    return diccionario_emocional\n",
        "\n",
        "def calcular_emotividad(texto, diccionario):\n",
        "    palabras = re.findall(r'\\b\\w+\\b', str(texto).lower())\n",
        "    total = len(palabras)\n",
        "    emocionales = sum(1 for palabra in palabras if palabra in diccionario)\n",
        "    return emocionales / total if total > 0 else 0\n",
        "\n",
        "def emocion_predominante(texto, diccionario):\n",
        "    palabras = re.findall(r'\\b\\w+\\b', str(texto).lower())\n",
        "    emociones = []\n",
        "    for palabra in palabras:\n",
        "        if palabra in diccionario:\n",
        "            emociones.extend(diccionario[palabra])\n",
        "    if emociones:\n",
        "        return Counter(emociones).most_common(1)[0][0]\n",
        "    else:\n",
        "        return 'ninguna'\n",
        "\n",
        "def aplicar_emotividad(df_heuristica, df_diccionario):\n",
        "    diccionario_emocional = construir_diccionario_emocional(df_diccionario)\n",
        "    df_heuristica['score_emotividad'] = df_heuristica['contenido'].apply(\n",
        "        lambda x: calcular_emotividad(x, diccionario_emocional)\n",
        "    )\n",
        "    df_heuristica['emocion_predominante'] = df_heuristica['contenido'].apply(\n",
        "        lambda x: emocion_predominante(x, diccionario_emocional)\n",
        "    )\n",
        "    return df_heuristica[['score_emotividad']]"
      ]
    },
    {
      "cell_type": "code",
      "execution_count": 13,
      "id": "60f78985",
      "metadata": {},
      "outputs": [
        {
          "name": "stdout",
          "output_type": "stream",
          "text": [
            "Collecting nltk\n",
            "  Using cached nltk-3.9.1-py3-none-any.whl.metadata (2.9 kB)\n",
            "Requirement already satisfied: click in c:\\users\\sebas\\appdata\\roaming\\python\\python312\\site-packages (from nltk) (8.1.8)\n",
            "Requirement already satisfied: joblib in c:\\users\\sebas\\appdata\\roaming\\python\\python312\\site-packages (from nltk) (1.3.2)\n",
            "Requirement already satisfied: regex>=2021.8.3 in c:\\users\\sebas\\appdata\\local\\programs\\python\\python312\\lib\\site-packages (from nltk) (2024.11.6)\n",
            "Requirement already satisfied: tqdm in c:\\users\\sebas\\appdata\\roaming\\python\\python312\\site-packages (from nltk) (4.67.1)\n",
            "Requirement already satisfied: colorama in c:\\users\\sebas\\appdata\\roaming\\python\\python312\\site-packages (from click->nltk) (0.4.6)\n",
            "Using cached nltk-3.9.1-py3-none-any.whl (1.5 MB)\n",
            "Installing collected packages: nltk\n",
            "Successfully installed nltk-3.9.1\n"
          ]
        }
      ],
      "source": [
        "!pip install nltk\n"
      ]
    },
    {
      "cell_type": "code",
      "execution_count": 14,
      "id": "f0cc99c0",
      "metadata": {
        "id": "f0cc99c0"
      },
      "outputs": [
        {
          "name": "stderr",
          "output_type": "stream",
          "text": [
            "[nltk_data] Downloading package stopwords to\n",
            "[nltk_data]     C:\\Users\\sebas\\AppData\\Roaming\\nltk_data...\n",
            "[nltk_data]   Package stopwords is already up-to-date!\n"
          ]
        }
      ],
      "source": [
        "import string\n",
        "import nltk\n",
        "from nltk.corpus import stopwords\n",
        "\n",
        "\n",
        "nltk.download('stopwords')\n",
        "stop_words = set(stopwords.words('spanish'))\n",
        "\n",
        "verbos_modales = ['debería', 'podría', 'tendría', 'habría', 'puede', 'pueden', 'podría', 'debe', 'deben', 'sería']\n",
        "terminos_generalizadores = ['siempre', 'nunca', 'todos', 'nadie', 'jamás', 'ninguno', 'cualquiera']\n",
        "verbos_opinion = ['creo', 'considero', 'opino', 'pienso', 'me parece', 'supongo', 'siento', 'estimo']\n",
        "lexico_polarizado = ['horrible', 'excelente', 'terrible', 'maravilloso', 'desastroso', 'perfecto', 'abominable', 'magnífico']\n",
        "\n",
        "def limpiar_texto_heuristica(texto):\n",
        "    if not isinstance(texto, str):\n",
        "        return \"\"\n",
        "    texto = texto.lower()\n",
        "    for c in string.punctuation:\n",
        "        texto = texto.replace(c, \"\")\n",
        "    return texto\n",
        "\n",
        "def frecuencia_heuristica(texto, palabras_clave):\n",
        "    texto_limpio = limpiar_texto_heuristica(texto)\n",
        "    palabras = texto_limpio.split()\n",
        "    return sum(1 for palabra in palabras if palabra in palabras_clave)\n",
        "\n",
        "def diversidad_lexica(texto):\n",
        "    texto_limpio = limpiar_texto_heuristica(texto)\n",
        "    palabras = [p for p in texto_limpio.split() if p.isalpha() and p not in stop_words]\n",
        "    if len(palabras) == 0:\n",
        "        return 0\n",
        "    return len(set(palabras)) / len(palabras)\n",
        "\n",
        "def aplicar_heuristicas_linguisticas(df_heuristica):\n",
        "    df_heuristica['incertidumbre'] = df_heuristica['contenido'].apply(\n",
        "        lambda x: frecuencia_heuristica(x, verbos_modales + terminos_generalizadores)\n",
        "    )\n",
        "    df_heuristica['subjetividad'] = df_heuristica['contenido'].apply(\n",
        "        lambda x: frecuencia_heuristica(x, verbos_opinion + lexico_polarizado)\n",
        "    )\n",
        "    df_heuristica['diversidad_lexica'] = df_heuristica['contenido'].apply(diversidad_lexica)\n",
        "    return df_heuristica[['incertidumbre', 'subjetividad', 'diversidad_lexica']]"
      ]
    },
    {
      "cell_type": "code",
      "execution_count": 18,
      "id": "4c924464",
      "metadata": {},
      "outputs": [
        {
          "name": "stdout",
          "output_type": "stream",
          "text": [
            "Collecting es-core-news-sm==3.8.0\n",
            "  Downloading https://github.com/explosion/spacy-models/releases/download/es_core_news_sm-3.8.0/es_core_news_sm-3.8.0-py3-none-any.whl (12.9 MB)\n",
            "     ---------------------------------------- 0.0/12.9 MB ? eta -:--:--\n",
            "     ------ --------------------------------- 2.1/12.9 MB 11.8 MB/s eta 0:00:01\n",
            "     ------------- -------------------------- 4.5/12.9 MB 11.7 MB/s eta 0:00:01\n",
            "     --------------------- ------------------ 6.8/12.9 MB 11.7 MB/s eta 0:00:01\n",
            "     ----------------------------- ---------- 9.4/12.9 MB 11.7 MB/s eta 0:00:01\n",
            "     ---------------------------------- ---- 11.5/12.9 MB 11.8 MB/s eta 0:00:01\n",
            "     --------------------------------------- 12.9/12.9 MB 11.5 MB/s eta 0:00:00\n",
            "Installing collected packages: es-core-news-sm\n",
            "Successfully installed es-core-news-sm-3.8.0\n",
            "\u001b[38;5;2m✔ Download and installation successful\u001b[0m\n",
            "You can now load the package via spacy.load('es_core_news_sm')\n"
          ]
        }
      ],
      "source": [
        "!python -m spacy download es_core_news_sm\n"
      ]
    },
    {
      "cell_type": "code",
      "execution_count": 16,
      "id": "43cdf13a",
      "metadata": {},
      "outputs": [
        {
          "name": "stdout",
          "output_type": "stream",
          "text": [
            "Collecting spacy\n",
            "  Using cached spacy-3.8.7-cp312-cp312-win_amd64.whl.metadata (28 kB)\n",
            "Collecting spacy-legacy<3.1.0,>=3.0.11 (from spacy)\n",
            "  Using cached spacy_legacy-3.0.12-py2.py3-none-any.whl.metadata (2.8 kB)\n",
            "Collecting spacy-loggers<2.0.0,>=1.0.0 (from spacy)\n",
            "  Using cached spacy_loggers-1.0.5-py3-none-any.whl.metadata (23 kB)\n",
            "Collecting murmurhash<1.1.0,>=0.28.0 (from spacy)\n",
            "  Using cached murmurhash-1.0.13-cp312-cp312-win_amd64.whl.metadata (2.2 kB)\n",
            "Collecting cymem<2.1.0,>=2.0.2 (from spacy)\n",
            "  Using cached cymem-2.0.11-cp312-cp312-win_amd64.whl.metadata (8.8 kB)\n",
            "Collecting preshed<3.1.0,>=3.0.2 (from spacy)\n",
            "  Using cached preshed-3.0.10-cp312-cp312-win_amd64.whl.metadata (2.5 kB)\n",
            "Collecting thinc<8.4.0,>=8.3.4 (from spacy)\n",
            "  Using cached thinc-8.3.6-cp312-cp312-win_amd64.whl.metadata (15 kB)\n",
            "Collecting wasabi<1.2.0,>=0.9.1 (from spacy)\n",
            "  Using cached wasabi-1.1.3-py3-none-any.whl.metadata (28 kB)\n",
            "Collecting srsly<3.0.0,>=2.4.3 (from spacy)\n",
            "  Using cached srsly-2.5.1-cp312-cp312-win_amd64.whl.metadata (20 kB)\n",
            "Collecting catalogue<2.1.0,>=2.0.6 (from spacy)\n",
            "  Using cached catalogue-2.0.10-py3-none-any.whl.metadata (14 kB)\n",
            "Collecting weasel<0.5.0,>=0.1.0 (from spacy)\n",
            "  Using cached weasel-0.4.1-py3-none-any.whl.metadata (4.6 kB)\n",
            "Collecting typer<1.0.0,>=0.3.0 (from spacy)\n",
            "  Using cached typer-0.16.0-py3-none-any.whl.metadata (15 kB)\n",
            "Requirement already satisfied: tqdm<5.0.0,>=4.38.0 in c:\\users\\sebas\\appdata\\roaming\\python\\python312\\site-packages (from spacy) (4.67.1)\n",
            "Requirement already satisfied: numpy>=1.19.0 in c:\\users\\sebas\\appdata\\local\\programs\\python\\python312\\lib\\site-packages (from spacy) (1.26.4)\n",
            "Requirement already satisfied: requests<3.0.0,>=2.13.0 in c:\\users\\sebas\\appdata\\roaming\\python\\python312\\site-packages (from spacy) (2.32.3)\n",
            "Collecting pydantic!=1.8,!=1.8.1,<3.0.0,>=1.7.4 (from spacy)\n",
            "  Using cached pydantic-2.11.7-py3-none-any.whl.metadata (67 kB)\n",
            "Requirement already satisfied: jinja2 in c:\\users\\sebas\\appdata\\roaming\\python\\python312\\site-packages (from spacy) (3.1.5)\n",
            "Requirement already satisfied: setuptools in c:\\users\\sebas\\appdata\\roaming\\python\\python312\\site-packages (from spacy) (75.8.0)\n",
            "Requirement already satisfied: packaging>=20.0 in c:\\users\\sebas\\appdata\\local\\programs\\python\\python312\\lib\\site-packages (from spacy) (25.0)\n",
            "Collecting langcodes<4.0.0,>=3.2.0 (from spacy)\n",
            "  Using cached langcodes-3.5.0-py3-none-any.whl.metadata (29 kB)\n",
            "Collecting language-data>=1.2 (from langcodes<4.0.0,>=3.2.0->spacy)\n",
            "  Using cached language_data-1.3.0-py3-none-any.whl.metadata (4.3 kB)\n",
            "Collecting annotated-types>=0.6.0 (from pydantic!=1.8,!=1.8.1,<3.0.0,>=1.7.4->spacy)\n",
            "  Using cached annotated_types-0.7.0-py3-none-any.whl.metadata (15 kB)\n",
            "Collecting pydantic-core==2.33.2 (from pydantic!=1.8,!=1.8.1,<3.0.0,>=1.7.4->spacy)\n",
            "  Using cached pydantic_core-2.33.2-cp312-cp312-win_amd64.whl.metadata (6.9 kB)\n",
            "Requirement already satisfied: typing-extensions>=4.12.2 in c:\\users\\sebas\\appdata\\local\\programs\\python\\python312\\lib\\site-packages (from pydantic!=1.8,!=1.8.1,<3.0.0,>=1.7.4->spacy) (4.13.2)\n",
            "Collecting typing-inspection>=0.4.0 (from pydantic!=1.8,!=1.8.1,<3.0.0,>=1.7.4->spacy)\n",
            "  Using cached typing_inspection-0.4.1-py3-none-any.whl.metadata (2.6 kB)\n",
            "Requirement already satisfied: charset-normalizer<4,>=2 in c:\\users\\sebas\\appdata\\roaming\\python\\python312\\site-packages (from requests<3.0.0,>=2.13.0->spacy) (3.4.1)\n",
            "Requirement already satisfied: idna<4,>=2.5 in c:\\users\\sebas\\appdata\\roaming\\python\\python312\\site-packages (from requests<3.0.0,>=2.13.0->spacy) (3.10)\n",
            "Requirement already satisfied: urllib3<3,>=1.21.1 in c:\\users\\sebas\\appdata\\local\\programs\\python\\python312\\lib\\site-packages (from requests<3.0.0,>=2.13.0->spacy) (2.4.0)\n",
            "Requirement already satisfied: certifi>=2017.4.17 in c:\\users\\sebas\\appdata\\local\\programs\\python\\python312\\lib\\site-packages (from requests<3.0.0,>=2.13.0->spacy) (2025.6.15)\n",
            "Collecting blis<1.4.0,>=1.3.0 (from thinc<8.4.0,>=8.3.4->spacy)\n",
            "  Using cached blis-1.3.0-cp312-cp312-win_amd64.whl.metadata (7.6 kB)\n",
            "Collecting confection<1.0.0,>=0.0.1 (from thinc<8.4.0,>=8.3.4->spacy)\n",
            "  Using cached confection-0.1.5-py3-none-any.whl.metadata (19 kB)\n",
            "Collecting numpy>=1.19.0 (from spacy)\n",
            "  Using cached numpy-2.3.1-cp312-cp312-win_amd64.whl.metadata (60 kB)\n",
            "Requirement already satisfied: colorama in c:\\users\\sebas\\appdata\\roaming\\python\\python312\\site-packages (from tqdm<5.0.0,>=4.38.0->spacy) (0.4.6)\n",
            "Requirement already satisfied: click>=8.0.0 in c:\\users\\sebas\\appdata\\roaming\\python\\python312\\site-packages (from typer<1.0.0,>=0.3.0->spacy) (8.1.8)\n",
            "Collecting shellingham>=1.3.0 (from typer<1.0.0,>=0.3.0->spacy)\n",
            "  Using cached shellingham-1.5.4-py2.py3-none-any.whl.metadata (3.5 kB)\n",
            "Requirement already satisfied: rich>=10.11.0 in c:\\users\\sebas\\appdata\\local\\programs\\python\\python312\\lib\\site-packages (from typer<1.0.0,>=0.3.0->spacy) (14.0.0)\n",
            "Collecting cloudpathlib<1.0.0,>=0.7.0 (from weasel<0.5.0,>=0.1.0->spacy)\n",
            "  Using cached cloudpathlib-0.21.1-py3-none-any.whl.metadata (14 kB)\n",
            "Collecting smart-open<8.0.0,>=5.2.1 (from weasel<0.5.0,>=0.1.0->spacy)\n",
            "  Downloading smart_open-7.3.0.post1-py3-none-any.whl.metadata (24 kB)\n",
            "Requirement already satisfied: wrapt in c:\\users\\sebas\\appdata\\local\\programs\\python\\python312\\lib\\site-packages (from smart-open<8.0.0,>=5.2.1->weasel<0.5.0,>=0.1.0->spacy) (1.17.2)\n",
            "Collecting marisa-trie>=1.1.0 (from language-data>=1.2->langcodes<4.0.0,>=3.2.0->spacy)\n",
            "  Using cached marisa_trie-1.2.1-cp312-cp312-win_amd64.whl.metadata (9.3 kB)\n",
            "Requirement already satisfied: markdown-it-py>=2.2.0 in c:\\users\\sebas\\appdata\\local\\programs\\python\\python312\\lib\\site-packages (from rich>=10.11.0->typer<1.0.0,>=0.3.0->spacy) (3.0.0)\n",
            "Requirement already satisfied: pygments<3.0.0,>=2.13.0 in c:\\users\\sebas\\appdata\\roaming\\python\\python312\\site-packages (from rich>=10.11.0->typer<1.0.0,>=0.3.0->spacy) (2.19.1)\n",
            "Requirement already satisfied: mdurl~=0.1 in c:\\users\\sebas\\appdata\\local\\programs\\python\\python312\\lib\\site-packages (from markdown-it-py>=2.2.0->rich>=10.11.0->typer<1.0.0,>=0.3.0->spacy) (0.1.2)\n",
            "Requirement already satisfied: MarkupSafe>=2.0 in c:\\users\\sebas\\appdata\\local\\programs\\python\\python312\\lib\\site-packages (from jinja2->spacy) (3.0.2)\n",
            "Using cached spacy-3.8.7-cp312-cp312-win_amd64.whl (13.9 MB)\n",
            "Using cached catalogue-2.0.10-py3-none-any.whl (17 kB)\n",
            "Using cached cymem-2.0.11-cp312-cp312-win_amd64.whl (39 kB)\n",
            "Using cached langcodes-3.5.0-py3-none-any.whl (182 kB)\n",
            "Using cached murmurhash-1.0.13-cp312-cp312-win_amd64.whl (24 kB)\n",
            "Using cached preshed-3.0.10-cp312-cp312-win_amd64.whl (116 kB)\n",
            "Using cached pydantic-2.11.7-py3-none-any.whl (444 kB)\n",
            "Using cached pydantic_core-2.33.2-cp312-cp312-win_amd64.whl (2.0 MB)\n",
            "Using cached spacy_legacy-3.0.12-py2.py3-none-any.whl (29 kB)\n",
            "Using cached spacy_loggers-1.0.5-py3-none-any.whl (22 kB)\n",
            "Using cached srsly-2.5.1-cp312-cp312-win_amd64.whl (632 kB)\n",
            "Using cached thinc-8.3.6-cp312-cp312-win_amd64.whl (1.7 MB)\n",
            "Using cached blis-1.3.0-cp312-cp312-win_amd64.whl (6.3 MB)\n",
            "Using cached confection-0.1.5-py3-none-any.whl (35 kB)\n",
            "Using cached numpy-2.3.1-cp312-cp312-win_amd64.whl (12.7 MB)\n",
            "Using cached typer-0.16.0-py3-none-any.whl (46 kB)\n",
            "Using cached wasabi-1.1.3-py3-none-any.whl (27 kB)\n",
            "Using cached weasel-0.4.1-py3-none-any.whl (50 kB)\n",
            "Using cached cloudpathlib-0.21.1-py3-none-any.whl (52 kB)\n",
            "Downloading smart_open-7.3.0.post1-py3-none-any.whl (61 kB)\n",
            "Using cached annotated_types-0.7.0-py3-none-any.whl (13 kB)\n",
            "Using cached language_data-1.3.0-py3-none-any.whl (5.4 MB)\n",
            "Using cached marisa_trie-1.2.1-cp312-cp312-win_amd64.whl (150 kB)\n",
            "Using cached shellingham-1.5.4-py2.py3-none-any.whl (9.8 kB)\n",
            "Using cached typing_inspection-0.4.1-py3-none-any.whl (14 kB)\n",
            "Installing collected packages: cymem, wasabi, typing-inspection, spacy-loggers, spacy-legacy, smart-open, shellingham, pydantic-core, numpy, murmurhash, marisa-trie, cloudpathlib, catalogue, annotated-types, srsly, pydantic, preshed, language-data, blis, typer, langcodes, confection, weasel, thinc, spacy\n",
            "\n",
            "   - --------------------------------------  1/25 [wasabi]\n",
            "   - --------------------------------------  1/25 [wasabi]\n",
            "   - --------------------------------------  1/25 [wasabi]\n",
            "   ---- -----------------------------------  3/25 [spacy-loggers]\n",
            "   ---- -----------------------------------  3/25 [spacy-loggers]\n",
            "   ------ ---------------------------------  4/25 [spacy-legacy]\n",
            "   ------ ---------------------------------  4/25 [spacy-legacy]\n",
            "   ------ ---------------------------------  4/25 [spacy-legacy]\n",
            "   -------- -------------------------------  5/25 [smart-open]\n",
            "   -------- -------------------------------  5/25 [smart-open]\n",
            "   -------- -------------------------------  5/25 [smart-open]\n",
            "   -------- -------------------------------  5/25 [smart-open]\n",
            "   --------- ------------------------------  6/25 [shellingham]\n",
            "   ----------- ----------------------------  7/25 [pydantic-core]\n",
            "  Attempting uninstall: numpy\n",
            "   ----------- ----------------------------  7/25 [pydantic-core]\n",
            "    Found existing installation: numpy 1.26.4\n",
            "   ----------- ----------------------------  7/25 [pydantic-core]\n",
            "   ------------ ---------------------------  8/25 [numpy]\n",
            "   ------------ ---------------------------  8/25 [numpy]\n",
            "   ------------ ---------------------------  8/25 [numpy]\n",
            "    Uninstalling numpy-1.26.4:\n",
            "   ------------ ---------------------------  8/25 [numpy]\n",
            "   ------------ ---------------------------  8/25 [numpy]\n",
            "   ------------ ---------------------------  8/25 [numpy]\n",
            "   ------------ ---------------------------  8/25 [numpy]\n",
            "   ------------ ---------------------------  8/25 [numpy]\n",
            "   ------------ ---------------------------  8/25 [numpy]\n",
            "   ------------ ---------------------------  8/25 [numpy]\n",
            "   ------------ ---------------------------  8/25 [numpy]\n",
            "   ------------ ---------------------------  8/25 [numpy]\n",
            "   ------------ ---------------------------  8/25 [numpy]\n",
            "   ------------ ---------------------------  8/25 [numpy]\n",
            "   ------------ ---------------------------  8/25 [numpy]\n",
            "   ------------ ---------------------------  8/25 [numpy]\n",
            "   ------------ ---------------------------  8/25 [numpy]\n",
            "   ------------ ---------------------------  8/25 [numpy]\n",
            "   ------------ ---------------------------  8/25 [numpy]\n",
            "   ------------ ---------------------------  8/25 [numpy]\n",
            "   ------------ ---------------------------  8/25 [numpy]\n",
            "   ------------ ---------------------------  8/25 [numpy]\n",
            "   ------------ ---------------------------  8/25 [numpy]\n",
            "   ------------ ---------------------------  8/25 [numpy]\n",
            "   ------------ ---------------------------  8/25 [numpy]\n",
            "   ------------ ---------------------------  8/25 [numpy]\n",
            "   ------------ ---------------------------  8/25 [numpy]\n",
            "   ------------ ---------------------------  8/25 [numpy]\n",
            "   ------------ ---------------------------  8/25 [numpy]\n",
            "   ------------ ---------------------------  8/25 [numpy]\n",
            "   ------------ ---------------------------  8/25 [numpy]\n",
            "   ------------ ---------------------------  8/25 [numpy]\n",
            "   ------------ ---------------------------  8/25 [numpy]\n",
            "   ------------ ---------------------------  8/25 [numpy]\n",
            "   ------------ ---------------------------  8/25 [numpy]\n",
            "   ------------ ---------------------------  8/25 [numpy]\n",
            "   ------------ ---------------------------  8/25 [numpy]\n",
            "   ------------ ---------------------------  8/25 [numpy]\n",
            "   ------------ ---------------------------  8/25 [numpy]\n",
            "   ------------ ---------------------------  8/25 [numpy]\n",
            "   ------------ ---------------------------  8/25 [numpy]\n",
            "   ------------ ---------------------------  8/25 [numpy]\n",
            "   ------------ ---------------------------  8/25 [numpy]\n",
            "      Successfully uninstalled numpy-1.26.4\n",
            "   ------------ ---------------------------  8/25 [numpy]\n",
            "   ------------ ---------------------------  8/25 [numpy]\n",
            "   ------------ ---------------------------  8/25 [numpy]\n",
            "   ------------ ---------------------------  8/25 [numpy]\n",
            "   ------------ ---------------------------  8/25 [numpy]\n",
            "   ------------ ---------------------------  8/25 [numpy]\n",
            "   ------------ ---------------------------  8/25 [numpy]\n",
            "   ------------ ---------------------------  8/25 [numpy]\n",
            "   ------------ ---------------------------  8/25 [numpy]\n",
            "   ------------ ---------------------------  8/25 [numpy]\n",
            "   ------------ ---------------------------  8/25 [numpy]\n",
            "   ------------ ---------------------------  8/25 [numpy]\n",
            "   ------------ ---------------------------  8/25 [numpy]\n",
            "   ------------ ---------------------------  8/25 [numpy]\n",
            "   ------------ ---------------------------  8/25 [numpy]\n",
            "   ------------ ---------------------------  8/25 [numpy]\n",
            "   ------------ ---------------------------  8/25 [numpy]\n",
            "   ------------ ---------------------------  8/25 [numpy]\n",
            "   ------------ ---------------------------  8/25 [numpy]\n",
            "   ------------ ---------------------------  8/25 [numpy]\n",
            "   ------------ ---------------------------  8/25 [numpy]\n",
            "   ------------ ---------------------------  8/25 [numpy]\n",
            "   ------------ ---------------------------  8/25 [numpy]\n",
            "   ------------ ---------------------------  8/25 [numpy]\n",
            "   ------------ ---------------------------  8/25 [numpy]\n",
            "   ------------ ---------------------------  8/25 [numpy]\n",
            "   ------------ ---------------------------  8/25 [numpy]\n",
            "   ------------ ---------------------------  8/25 [numpy]\n",
            "   ------------ ---------------------------  8/25 [numpy]\n",
            "   ------------ ---------------------------  8/25 [numpy]\n",
            "   ------------ ---------------------------  8/25 [numpy]\n",
            "   ------------ ---------------------------  8/25 [numpy]\n",
            "   ------------ ---------------------------  8/25 [numpy]\n",
            "   ------------ ---------------------------  8/25 [numpy]\n",
            "   ------------ ---------------------------  8/25 [numpy]\n",
            "   ------------ ---------------------------  8/25 [numpy]\n",
            "   ------------ ---------------------------  8/25 [numpy]\n",
            "   ------------ ---------------------------  8/25 [numpy]\n",
            "   ------------ ---------------------------  8/25 [numpy]\n",
            "   ------------ ---------------------------  8/25 [numpy]\n",
            "   ------------ ---------------------------  8/25 [numpy]\n",
            "   ------------ ---------------------------  8/25 [numpy]\n",
            "   ------------ ---------------------------  8/25 [numpy]\n",
            "   ------------ ---------------------------  8/25 [numpy]\n",
            "   ------------ ---------------------------  8/25 [numpy]\n",
            "   ------------ ---------------------------  8/25 [numpy]\n",
            "   ------------ ---------------------------  8/25 [numpy]\n",
            "   ------------ ---------------------------  8/25 [numpy]\n",
            "   ------------ ---------------------------  8/25 [numpy]\n",
            "   ------------ ---------------------------  8/25 [numpy]\n",
            "   ------------ ---------------------------  8/25 [numpy]\n",
            "   ------------ ---------------------------  8/25 [numpy]\n",
            "   ------------ ---------------------------  8/25 [numpy]\n",
            "   ------------ ---------------------------  8/25 [numpy]\n",
            "   ------------ ---------------------------  8/25 [numpy]\n",
            "   ------------ ---------------------------  8/25 [numpy]\n",
            "   ------------ ---------------------------  8/25 [numpy]\n",
            "   ------------ ---------------------------  8/25 [numpy]\n",
            "   ------------ ---------------------------  8/25 [numpy]\n",
            "   ------------ ---------------------------  8/25 [numpy]\n",
            "   ------------ ---------------------------  8/25 [numpy]\n",
            "   ------------ ---------------------------  8/25 [numpy]\n",
            "   ------------ ---------------------------  8/25 [numpy]\n",
            "   ------------ ---------------------------  8/25 [numpy]\n",
            "   ------------ ---------------------------  8/25 [numpy]\n",
            "   ------------ ---------------------------  8/25 [numpy]\n",
            "   ------------ ---------------------------  8/25 [numpy]\n",
            "   ------------ ---------------------------  8/25 [numpy]\n",
            "   ------------ ---------------------------  8/25 [numpy]\n",
            "   ------------ ---------------------------  8/25 [numpy]\n",
            "   ------------ ---------------------------  8/25 [numpy]\n",
            "   ------------ ---------------------------  8/25 [numpy]\n",
            "   ------------ ---------------------------  8/25 [numpy]\n",
            "   ------------ ---------------------------  8/25 [numpy]\n",
            "   ------------ ---------------------------  8/25 [numpy]\n",
            "   ------------ ---------------------------  8/25 [numpy]\n",
            "   ------------ ---------------------------  8/25 [numpy]\n",
            "   ------------ ---------------------------  8/25 [numpy]\n",
            "   ------------ ---------------------------  8/25 [numpy]\n",
            "   ------------ ---------------------------  8/25 [numpy]\n",
            "   ------------ ---------------------------  8/25 [numpy]\n",
            "   ------------ ---------------------------  8/25 [numpy]\n",
            "   ------------ ---------------------------  8/25 [numpy]\n",
            "   ------------ ---------------------------  8/25 [numpy]\n",
            "   ------------ ---------------------------  8/25 [numpy]\n",
            "   ------------ ---------------------------  8/25 [numpy]\n",
            "   ------------ ---------------------------  8/25 [numpy]\n",
            "   ------------ ---------------------------  8/25 [numpy]\n",
            "   ------------ ---------------------------  8/25 [numpy]\n",
            "   ------------ ---------------------------  8/25 [numpy]\n",
            "   ------------ ---------------------------  8/25 [numpy]\n",
            "   ------------ ---------------------------  8/25 [numpy]\n",
            "   ------------ ---------------------------  8/25 [numpy]\n",
            "   ------------ ---------------------------  8/25 [numpy]\n",
            "   ------------ ---------------------------  8/25 [numpy]\n",
            "   ------------ ---------------------------  8/25 [numpy]\n",
            "   ------------ ---------------------------  8/25 [numpy]\n",
            "   ------------ ---------------------------  8/25 [numpy]\n",
            "   ------------ ---------------------------  8/25 [numpy]\n",
            "   ------------ ---------------------------  8/25 [numpy]\n",
            "   ------------ ---------------------------  8/25 [numpy]\n",
            "   ------------ ---------------------------  8/25 [numpy]\n",
            "   ------------ ---------------------------  8/25 [numpy]\n",
            "   ------------ ---------------------------  8/25 [numpy]\n",
            "   ------------ ---------------------------  8/25 [numpy]\n",
            "   ------------ ---------------------------  8/25 [numpy]\n",
            "   ------------ ---------------------------  8/25 [numpy]\n",
            "   ------------ ---------------------------  8/25 [numpy]\n",
            "   ------------ ---------------------------  8/25 [numpy]\n",
            "   ------------ ---------------------------  8/25 [numpy]\n",
            "   ------------ ---------------------------  8/25 [numpy]\n",
            "   ------------ ---------------------------  8/25 [numpy]\n",
            "   ------------ ---------------------------  8/25 [numpy]\n",
            "   ------------ ---------------------------  8/25 [numpy]\n",
            "   ------------ ---------------------------  8/25 [numpy]\n",
            "   ------------ ---------------------------  8/25 [numpy]\n",
            "   ------------ ---------------------------  8/25 [numpy]\n",
            "   ------------ ---------------------------  8/25 [numpy]\n",
            "   ------------ ---------------------------  8/25 [numpy]\n",
            "   ------------ ---------------------------  8/25 [numpy]\n",
            "   ------------ ---------------------------  8/25 [numpy]\n",
            "   ------------ ---------------------------  8/25 [numpy]\n",
            "   ------------ ---------------------------  8/25 [numpy]\n",
            "   ------------ ---------------------------  8/25 [numpy]\n",
            "   ------------ ---------------------------  8/25 [numpy]\n",
            "   ------------ ---------------------------  8/25 [numpy]\n",
            "   ------------ ---------------------------  8/25 [numpy]\n",
            "   ------------ ---------------------------  8/25 [numpy]\n",
            "   ------------ ---------------------------  8/25 [numpy]\n",
            "   ------------ ---------------------------  8/25 [numpy]\n",
            "   ------------ ---------------------------  8/25 [numpy]\n",
            "   ------------ ---------------------------  8/25 [numpy]\n",
            "   -------------- -------------------------  9/25 [murmurhash]\n",
            "   ----------------- ---------------------- 11/25 [cloudpathlib]\n",
            "   ----------------- ---------------------- 11/25 [cloudpathlib]\n",
            "   ----------------- ---------------------- 11/25 [cloudpathlib]\n",
            "   ----------------- ---------------------- 11/25 [cloudpathlib]\n",
            "   ------------------- -------------------- 12/25 [catalogue]\n",
            "   ---------------------- ----------------- 14/25 [srsly]\n",
            "   ---------------------- ----------------- 14/25 [srsly]\n",
            "   ---------------------- ----------------- 14/25 [srsly]\n",
            "   ---------------------- ----------------- 14/25 [srsly]\n",
            "   ---------------------- ----------------- 14/25 [srsly]\n",
            "   ---------------------- ----------------- 14/25 [srsly]\n",
            "   ---------------------- ----------------- 14/25 [srsly]\n",
            "   ---------------------- ----------------- 14/25 [srsly]\n",
            "   ---------------------- ----------------- 14/25 [srsly]\n",
            "   ---------------------- ----------------- 14/25 [srsly]\n",
            "   ---------------------- ----------------- 14/25 [srsly]\n",
            "   ---------------------- ----------------- 14/25 [srsly]\n",
            "   ---------------------- ----------------- 14/25 [srsly]\n",
            "   ---------------------- ----------------- 14/25 [srsly]\n",
            "   ---------------------- ----------------- 14/25 [srsly]\n",
            "   ---------------------- ----------------- 14/25 [srsly]\n",
            "   ---------------------- ----------------- 14/25 [srsly]\n",
            "   ---------------------- ----------------- 14/25 [srsly]\n",
            "   ---------------------- ----------------- 14/25 [srsly]\n",
            "   ---------------------- ----------------- 14/25 [srsly]\n",
            "   ---------------------- ----------------- 14/25 [srsly]\n",
            "   ---------------------- ----------------- 14/25 [srsly]\n",
            "   ------------------------ --------------- 15/25 [pydantic]\n",
            "   ------------------------ --------------- 15/25 [pydantic]\n",
            "   ------------------------ --------------- 15/25 [pydantic]\n",
            "   ------------------------ --------------- 15/25 [pydantic]\n",
            "   ------------------------ --------------- 15/25 [pydantic]\n",
            "   ------------------------ --------------- 15/25 [pydantic]\n",
            "   ------------------------ --------------- 15/25 [pydantic]\n",
            "   ------------------------ --------------- 15/25 [pydantic]\n",
            "   ------------------------ --------------- 15/25 [pydantic]\n",
            "   ------------------------ --------------- 15/25 [pydantic]\n",
            "   ------------------------ --------------- 15/25 [pydantic]\n",
            "   ------------------------ --------------- 15/25 [pydantic]\n",
            "   ------------------------ --------------- 15/25 [pydantic]\n",
            "   ------------------------ --------------- 15/25 [pydantic]\n",
            "   ------------------------ --------------- 15/25 [pydantic]\n",
            "   ------------------------ --------------- 15/25 [pydantic]\n",
            "   ------------------------ --------------- 15/25 [pydantic]\n",
            "   ------------------------ --------------- 15/25 [pydantic]\n",
            "   ------------------------ --------------- 15/25 [pydantic]\n",
            "   ------------------------ --------------- 15/25 [pydantic]\n",
            "   ------------------------- -------------- 16/25 [preshed]\n",
            "   --------------------------- ------------ 17/25 [language-data]\n",
            "   --------------------------- ------------ 17/25 [language-data]\n",
            "   --------------------------- ------------ 17/25 [language-data]\n",
            "   --------------------------- ------------ 17/25 [language-data]\n",
            "   --------------------------- ------------ 17/25 [language-data]\n",
            "   --------------------------- ------------ 17/25 [language-data]\n",
            "   --------------------------- ------------ 17/25 [language-data]\n",
            "   --------------------------- ------------ 17/25 [language-data]\n",
            "   --------------------------- ------------ 17/25 [language-data]\n",
            "   --------------------------- ------------ 17/25 [language-data]\n",
            "   --------------------------- ------------ 17/25 [language-data]\n",
            "   --------------------------- ------------ 17/25 [language-data]\n",
            "   --------------------------- ------------ 17/25 [language-data]\n",
            "   ---------------------------- ----------- 18/25 [blis]\n",
            "   ---------------------------- ----------- 18/25 [blis]\n",
            "   ---------------------------- ----------- 18/25 [blis]\n",
            "   ------------------------------ --------- 19/25 [typer]\n",
            "   ------------------------------ --------- 19/25 [typer]\n",
            "   ------------------------------ --------- 19/25 [typer]\n",
            "   ------------------------------ --------- 19/25 [typer]\n",
            "   -------------------------------- ------- 20/25 [langcodes]\n",
            "   -------------------------------- ------- 20/25 [langcodes]\n",
            "   -------------------------------- ------- 20/25 [langcodes]\n",
            "   --------------------------------- ------ 21/25 [confection]\n",
            "   ----------------------------------- ---- 22/25 [weasel]\n",
            "   ----------------------------------- ---- 22/25 [weasel]\n",
            "   ----------------------------------- ---- 22/25 [weasel]\n",
            "   ----------------------------------- ---- 22/25 [weasel]\n",
            "   ----------------------------------- ---- 22/25 [weasel]\n",
            "   ----------------------------------- ---- 22/25 [weasel]\n",
            "   ------------------------------------ --- 23/25 [thinc]\n",
            "   ------------------------------------ --- 23/25 [thinc]\n",
            "   ------------------------------------ --- 23/25 [thinc]\n",
            "   ------------------------------------ --- 23/25 [thinc]\n",
            "   ------------------------------------ --- 23/25 [thinc]\n",
            "   ------------------------------------ --- 23/25 [thinc]\n",
            "   ------------------------------------ --- 23/25 [thinc]\n",
            "   ------------------------------------ --- 23/25 [thinc]\n",
            "   ------------------------------------ --- 23/25 [thinc]\n",
            "   ------------------------------------ --- 23/25 [thinc]\n",
            "   ------------------------------------ --- 23/25 [thinc]\n",
            "   ------------------------------------ --- 23/25 [thinc]\n",
            "   ------------------------------------ --- 23/25 [thinc]\n",
            "   ------------------------------------ --- 23/25 [thinc]\n",
            "   ------------------------------------ --- 23/25 [thinc]\n",
            "   ------------------------------------ --- 23/25 [thinc]\n",
            "   ------------------------------------ --- 23/25 [thinc]\n",
            "   ------------------------------------ --- 23/25 [thinc]\n",
            "   ------------------------------------ --- 23/25 [thinc]\n",
            "   ------------------------------------ --- 23/25 [thinc]\n",
            "   ------------------------------------ --- 23/25 [thinc]\n",
            "   ------------------------------------ --- 23/25 [thinc]\n",
            "   ------------------------------------ --- 23/25 [thinc]\n",
            "   -------------------------------------- - 24/25 [spacy]\n",
            "   -------------------------------------- - 24/25 [spacy]\n",
            "   -------------------------------------- - 24/25 [spacy]\n",
            "   -------------------------------------- - 24/25 [spacy]\n",
            "   -------------------------------------- - 24/25 [spacy]\n",
            "   -------------------------------------- - 24/25 [spacy]\n",
            "   -------------------------------------- - 24/25 [spacy]\n",
            "   -------------------------------------- - 24/25 [spacy]\n",
            "   -------------------------------------- - 24/25 [spacy]\n",
            "   -------------------------------------- - 24/25 [spacy]\n",
            "   -------------------------------------- - 24/25 [spacy]\n",
            "   -------------------------------------- - 24/25 [spacy]\n",
            "   -------------------------------------- - 24/25 [spacy]\n",
            "   -------------------------------------- - 24/25 [spacy]\n",
            "   -------------------------------------- - 24/25 [spacy]\n",
            "   -------------------------------------- - 24/25 [spacy]\n",
            "   -------------------------------------- - 24/25 [spacy]\n",
            "   -------------------------------------- - 24/25 [spacy]\n",
            "   -------------------------------------- - 24/25 [spacy]\n",
            "   -------------------------------------- - 24/25 [spacy]\n",
            "   -------------------------------------- - 24/25 [spacy]\n",
            "   -------------------------------------- - 24/25 [spacy]\n",
            "   -------------------------------------- - 24/25 [spacy]\n",
            "   -------------------------------------- - 24/25 [spacy]\n",
            "   -------------------------------------- - 24/25 [spacy]\n",
            "   -------------------------------------- - 24/25 [spacy]\n",
            "   -------------------------------------- - 24/25 [spacy]\n",
            "   -------------------------------------- - 24/25 [spacy]\n",
            "   -------------------------------------- - 24/25 [spacy]\n",
            "   -------------------------------------- - 24/25 [spacy]\n",
            "   -------------------------------------- - 24/25 [spacy]\n",
            "   -------------------------------------- - 24/25 [spacy]\n",
            "   -------------------------------------- - 24/25 [spacy]\n",
            "   -------------------------------------- - 24/25 [spacy]\n",
            "   -------------------------------------- - 24/25 [spacy]\n",
            "   -------------------------------------- - 24/25 [spacy]\n",
            "   -------------------------------------- - 24/25 [spacy]\n",
            "   -------------------------------------- - 24/25 [spacy]\n",
            "   -------------------------------------- - 24/25 [spacy]\n",
            "   -------------------------------------- - 24/25 [spacy]\n",
            "   -------------------------------------- - 24/25 [spacy]\n",
            "   -------------------------------------- - 24/25 [spacy]\n",
            "   -------------------------------------- - 24/25 [spacy]\n",
            "   -------------------------------------- - 24/25 [spacy]\n",
            "   -------------------------------------- - 24/25 [spacy]\n",
            "   -------------------------------------- - 24/25 [spacy]\n",
            "   -------------------------------------- - 24/25 [spacy]\n",
            "   -------------------------------------- - 24/25 [spacy]\n",
            "   -------------------------------------- - 24/25 [spacy]\n",
            "   -------------------------------------- - 24/25 [spacy]\n",
            "   -------------------------------------- - 24/25 [spacy]\n",
            "   -------------------------------------- - 24/25 [spacy]\n",
            "   -------------------------------------- - 24/25 [spacy]\n",
            "   -------------------------------------- - 24/25 [spacy]\n",
            "   -------------------------------------- - 24/25 [spacy]\n",
            "   -------------------------------------- - 24/25 [spacy]\n",
            "   -------------------------------------- - 24/25 [spacy]\n",
            "   -------------------------------------- - 24/25 [spacy]\n",
            "   -------------------------------------- - 24/25 [spacy]\n",
            "   -------------------------------------- - 24/25 [spacy]\n",
            "   -------------------------------------- - 24/25 [spacy]\n",
            "   -------------------------------------- - 24/25 [spacy]\n",
            "   -------------------------------------- - 24/25 [spacy]\n",
            "   -------------------------------------- - 24/25 [spacy]\n",
            "   -------------------------------------- - 24/25 [spacy]\n",
            "   -------------------------------------- - 24/25 [spacy]\n",
            "   -------------------------------------- - 24/25 [spacy]\n",
            "   -------------------------------------- - 24/25 [spacy]\n",
            "   -------------------------------------- - 24/25 [spacy]\n",
            "   -------------------------------------- - 24/25 [spacy]\n",
            "   -------------------------------------- - 24/25 [spacy]\n",
            "   -------------------------------------- - 24/25 [spacy]\n",
            "   -------------------------------------- - 24/25 [spacy]\n",
            "   -------------------------------------- - 24/25 [spacy]\n",
            "   -------------------------------------- - 24/25 [spacy]\n",
            "   -------------------------------------- - 24/25 [spacy]\n",
            "   -------------------------------------- - 24/25 [spacy]\n",
            "   -------------------------------------- - 24/25 [spacy]\n",
            "   -------------------------------------- - 24/25 [spacy]\n",
            "   -------------------------------------- - 24/25 [spacy]\n",
            "   -------------------------------------- - 24/25 [spacy]\n",
            "   -------------------------------------- - 24/25 [spacy]\n",
            "   -------------------------------------- - 24/25 [spacy]\n",
            "   -------------------------------------- - 24/25 [spacy]\n",
            "   -------------------------------------- - 24/25 [spacy]\n",
            "   -------------------------------------- - 24/25 [spacy]\n",
            "   -------------------------------------- - 24/25 [spacy]\n",
            "   -------------------------------------- - 24/25 [spacy]\n",
            "   -------------------------------------- - 24/25 [spacy]\n",
            "   -------------------------------------- - 24/25 [spacy]\n",
            "   -------------------------------------- - 24/25 [spacy]\n",
            "   -------------------------------------- - 24/25 [spacy]\n",
            "   -------------------------------------- - 24/25 [spacy]\n",
            "   -------------------------------------- - 24/25 [spacy]\n",
            "   -------------------------------------- - 24/25 [spacy]\n",
            "   -------------------------------------- - 24/25 [spacy]\n",
            "   -------------------------------------- - 24/25 [spacy]\n",
            "   -------------------------------------- - 24/25 [spacy]\n",
            "   -------------------------------------- - 24/25 [spacy]\n",
            "   -------------------------------------- - 24/25 [spacy]\n",
            "   -------------------------------------- - 24/25 [spacy]\n",
            "   ---------------------------------------- 25/25 [spacy]\n",
            "\n",
            "Successfully installed annotated-types-0.7.0 blis-1.3.0 catalogue-2.0.10 cloudpathlib-0.21.1 confection-0.1.5 cymem-2.0.11 langcodes-3.5.0 language-data-1.3.0 marisa-trie-1.2.1 murmurhash-1.0.13 numpy-2.3.1 preshed-3.0.10 pydantic-2.11.7 pydantic-core-2.33.2 shellingham-1.5.4 smart-open-7.3.0.post1 spacy-3.8.7 spacy-legacy-3.0.12 spacy-loggers-1.0.5 srsly-2.5.1 thinc-8.3.6 typer-0.16.0 typing-inspection-0.4.1 wasabi-1.1.3 weasel-0.4.1\n"
          ]
        },
        {
          "name": "stderr",
          "output_type": "stream",
          "text": [
            "  WARNING: Failed to remove contents in a temporary directory 'C:\\Users\\sebas\\AppData\\Local\\Programs\\Python\\Python312\\Lib\\site-packages\\~umpy.libs'.\n",
            "  You can safely remove it manually.\n",
            "  WARNING: Failed to remove contents in a temporary directory 'C:\\Users\\sebas\\AppData\\Local\\Programs\\Python\\Python312\\Lib\\site-packages\\~-mpy'.\n",
            "  You can safely remove it manually.\n",
            "ERROR: pip's dependency resolver does not currently take into account all the packages that are installed. This behaviour is the source of the following dependency conflicts.\n",
            "numba 0.61.0 requires numpy<2.2,>=1.24, but you have numpy 2.3.1 which is incompatible.\n",
            "tensorflow 2.19.0 requires numpy<2.2.0,>=1.26.0, but you have numpy 2.3.1 which is incompatible.\n"
          ]
        }
      ],
      "source": [
        "!pip install spacy"
      ]
    },
    {
      "cell_type": "code",
      "execution_count": 19,
      "id": "46809df8",
      "metadata": {
        "id": "46809df8"
      },
      "outputs": [],
      "source": [
        "import spacy\n",
        "nlp = spacy.load(\"es_core_news_sm\", disable=[\"ner\", \"tagger\"])\n",
        "\n",
        "def aplicar_patrones_sintacticos(df_heuristica):\n",
        "    resultados = []\n",
        "    for doc in nlp.pipe(df_heuristica['contenido'], batch_size=32):\n",
        "        oraciones = list(doc.sents)\n",
        "        total_palabras = len([token.text for token in doc if token.is_alpha])\n",
        "        total_palabras_mayus = len([token.text for token in doc if token.is_upper])\n",
        "        total_exclamaciones = doc.text.count('!')\n",
        "        frases_cortas = sum(1 for s in oraciones if len(s.text.split()) <= 7)\n",
        "        porcentaje_mayus = total_palabras_mayus / total_palabras if total_palabras > 0 else 0\n",
        "        frases_cortas_porcentaje = frases_cortas / len(oraciones) if oraciones else 0\n",
        "        resultados.append({\n",
        "            \"porcentaje_mayusculas\": porcentaje_mayus,\n",
        "            \"exclamaciones_totales\": total_exclamaciones,\n",
        "            \"frases_cortas\": frases_cortas,\n",
        "            \"frases_cortas_%\": frases_cortas_porcentaje\n",
        "        })\n",
        "    df_patrones = pd.DataFrame(resultados, index=df_heuristica.index)\n",
        "    return df_patrones"
      ]
    },
    {
      "cell_type": "code",
      "execution_count": 20,
      "id": "62c8f6ce",
      "metadata": {
        "id": "62c8f6ce"
      },
      "outputs": [
        {
          "name": "stderr",
          "output_type": "stream",
          "text": [
            "[nltk_data] Downloading package stopwords to\n",
            "[nltk_data]     C:\\Users\\sebas\\AppData\\Roaming\\nltk_data...\n",
            "[nltk_data]   Package stopwords is already up-to-date!\n"
          ]
        }
      ],
      "source": [
        "import string\n",
        "from nltk.corpus import stopwords\n",
        "import nltk\n",
        "\n",
        "nltk.download('stopwords')\n",
        "stop_words = set(stopwords.words('spanish'))\n",
        "\n",
        "def limpiar_texto_jaccard(texto):\n",
        "    if not isinstance(texto, str):\n",
        "        return \"\"\n",
        "    texto = texto.lower()\n",
        "    for c in string.punctuation:\n",
        "        texto = texto.replace(c, \"\")\n",
        "    return texto\n",
        "\n",
        "def consistencia_jaccard(titulo, contenido):\n",
        "    titulo = limpiar_texto_jaccard(titulo)\n",
        "    contenido = limpiar_texto_jaccard(contenido)\n",
        "    set_titulo = set([p for p in titulo.split() if p not in stop_words])\n",
        "    set_contenido = set([p for p in contenido.split() if p not in stop_words])\n",
        "    if len(set_titulo) == 0 or len(set_contenido) == 0:\n",
        "        return 0\n",
        "    interseccion = set_titulo.intersection(set_contenido)\n",
        "    union = set_titulo.union(set_contenido)\n",
        "    return len(interseccion) / len(union)\n",
        "\n",
        "def aplicar_relacion_titulo_cuerpo(df_heuristica):\n",
        "    df_heuristica['consistencia_titulo_cuerpo'] = df_heuristica.apply(\n",
        "        lambda row: consistencia_jaccard(row['titulo'], row['contenido']), axis=1)\n",
        "    return df_heuristica[['consistencia_titulo_cuerpo']]"
      ]
    },
    {
      "cell_type": "code",
      "execution_count": 21,
      "id": "aca9bac2",
      "metadata": {
        "id": "aca9bac2"
      },
      "outputs": [],
      "source": [
        "def generar_embedding_heuristico(df, df_diccionario):\n",
        "    emotividad = aplicar_emotividad(df.copy(), df_diccionario)\n",
        "    heuristicas = aplicar_heuristicas_linguisticas(df.copy())\n",
        "    patrones = aplicar_patrones_sintacticos(df.copy())\n",
        "    relacion = aplicar_relacion_titulo_cuerpo(df.copy())\n",
        "\n",
        "    heuristico_df = pd.concat([emotividad, heuristicas, patrones, relacion], axis=1)\n",
        "    heuristico_df = heuristico_df.replace([np.inf, -np.inf], np.nan).fillna(0)\n",
        "    return heuristico_df.to_numpy()"
      ]
    },
    {
      "cell_type": "markdown",
      "id": "c1d56aa3",
      "metadata": {
        "id": "c1d56aa3"
      },
      "source": [
        "#Feature Engineering"
      ]
    },
    {
      "cell_type": "code",
      "execution_count": 22,
      "id": "d528030e",
      "metadata": {
        "id": "d528030e"
      },
      "outputs": [],
      "source": [
        "def feature_engineering(df):\n",
        "    df['longitud'] = df['contenido'].apply(lambda x: len(str(x).split()))\n",
        "    df['longitud_titulo'] = df['titulo'].apply(lambda x: len(str(x).split()))\n",
        "    df['exclamaciones'] = df['contenido'].apply(lambda x: str(x).count('!'))\n",
        "    df['interrogaciones'] = df['contenido'].apply(lambda x: str(x).count('?'))\n",
        "    sensacionalistas = ['increíble', 'urgente', 'impactante', 'viral', 'escándalo']\n",
        "    df['palabras_sensacionalistas'] = df['contenido'].apply(lambda x: sum(x.lower().count(p) for p in sensacionalistas))\n",
        "    df['fecha'] = pd.to_datetime(df['fecha'], format='%d-%m-%Y', errors='coerce')\n",
        "    df['dia_semana'] = df['fecha'].dt.day_name()\n",
        "    df['mes'] = df['fecha'].dt.month\n",
        "    df['noticias_autor'] = df['autor'].map(df['autor'].value_counts())\n",
        "    df['relacion_titulo_contenido'] = df.apply(lambda r: r['longitud_titulo'] / r['longitud'] if r['longitud'] > 0 else 0, axis=1)\n",
        "    autor_freq = df['autor'].value_counts()\n",
        "    df['autor'] = df['autor'].apply(lambda x: x if x in autor_freq[autor_freq > 20].index else 'Otro')\n",
        "    df['mes_sin'] = np.sin(2 * np.pi * df['mes'].fillna(0) / 12)\n",
        "    df['mes_cos'] = np.cos(2 * np.pi * df['mes'].fillna(0) / 12)\n",
        "    dias = {'Monday': 0, 'Tuesday': 1, 'Wednesday': 2, 'Thursday': 3, 'Friday': 4, 'Saturday': 5, 'Sunday': 6}\n",
        "    df['dia_semana_num'] = df['dia_semana'].map(dias).fillna(0).astype(int)\n",
        "    df['dia_sin'] = np.sin(2 * np.pi * df['dia_semana_num'] / 7)\n",
        "    df['dia_cos'] = np.cos(2 * np.pi * df['dia_semana_num'] / 7)\n",
        "    columnas_num = ['longitud', 'longitud_titulo', 'exclamaciones', 'interrogaciones',\n",
        "                    'palabras_sensacionalistas', 'noticias_autor', 'relacion_titulo_contenido']\n",
        "    df[columnas_num] = df[columnas_num].replace([np.inf, -np.inf], np.nan).fillna(0)\n",
        "    scaler = StandardScaler()\n",
        "    df[columnas_num] = scaler.fit_transform(df[columnas_num])\n",
        "    return df, scaler"
      ]
    },
    {
      "cell_type": "markdown",
      "id": "8b5940ac",
      "metadata": {
        "id": "8b5940ac"
      },
      "source": [
        "Embedding Metadata"
      ]
    },
    {
      "cell_type": "code",
      "execution_count": 23,
      "id": "6fcb0487",
      "metadata": {
        "id": "6fcb0487"
      },
      "outputs": [],
      "source": [
        "def generar_embeddings(df, ohe=None):\n",
        "    col_num = ['longitud', 'longitud_titulo', 'exclamaciones', 'interrogaciones',\n",
        "               'palabras_sensacionalistas', 'noticias_autor', 'relacion_titulo_contenido']\n",
        "\n",
        "    if ohe is None:\n",
        "        ohe = OneHotEncoder(sparse_output=False, handle_unknown='ignore')\n",
        "        autor_encoded = ohe.fit_transform(df[['autor']])\n",
        "    else:\n",
        "        autor_encoded = ohe.transform(df[['autor']])\n",
        "\n",
        "    df_autor = pd.DataFrame(autor_encoded, columns=ohe.get_feature_names_out(['autor']), index=df.index)\n",
        "    df_embed = pd.concat([df[col_num + ['mes_sin', 'mes_cos', 'dia_sin', 'dia_cos']], df_autor], axis=1)\n",
        "    return df_embed.to_numpy(), ohe\n"
      ]
    },
    {
      "cell_type": "markdown",
      "id": "8abc262a",
      "metadata": {
        "id": "8abc262a"
      },
      "source": [
        "Embedding DistilBERT"
      ]
    },
    {
      "cell_type": "code",
      "execution_count": 24,
      "id": "1c392bff",
      "metadata": {
        "id": "1c392bff"
      },
      "outputs": [],
      "source": [
        "# Limpieza básica\n",
        "def limpiar_texto(texto):\n",
        "    texto = texto.lower()\n",
        "    texto = re.sub(r'http\\S+|www\\S+|@\\w+|#\\w+', '', texto)\n",
        "    texto = re.sub(r'\\s+', ' ', texto).strip()\n",
        "    return texto\n",
        "\n",
        "df['contenido_limpio'] = df['contenido'].astype(str).apply(limpiar_texto)"
      ]
    },
    {
      "cell_type": "code",
      "execution_count": 34,
      "id": "48f8867e",
      "metadata": {
        "id": "48f8867e"
      },
      "outputs": [],
      "source": [
        "from torch.utils.data import DataLoader, Dataset\n",
        "from transformers import DistilBertTokenizer, DistilBertModel\n",
        "import torch\n",
        "import numpy as np\n",
        "from tqdm import tqdm\n",
        "\n",
        "class TextDataset(Dataset):\n",
        "    def __init__(self, textos):\n",
        "        self.textos = textos\n",
        "\n",
        "    def __len__(self):\n",
        "        return len(self.textos)\n",
        "\n",
        "    def __getitem__(self, idx):\n",
        "        return self.textos[idx]\n",
        "\n",
        "def generar_embedding_bert(df, tokenizer, model, columna_texto='contenido_limpio', batch_size=32):\n",
        "    device = torch.device('cpu')  # Fuerza uso de CPU\n",
        "    model.to(device)\n",
        "    model.eval()\n",
        "\n",
        "    dataset = TextDataset(df[columna_texto].tolist())\n",
        "    dataloader = DataLoader(dataset, batch_size=batch_size, shuffle=False)\n",
        "\n",
        "    embeddings = []\n",
        "\n",
        "    with torch.no_grad():\n",
        "        for batch in tqdm(dataloader, desc=\"Generando embeddings BERT (CPU)\"):\n",
        "            encoded = tokenizer(batch, return_tensors='pt', padding=True, truncation=True, max_length=512)\n",
        "            input_ids = encoded['input_ids'].to(device)\n",
        "            attention_mask = encoded['attention_mask'].to(device)\n",
        "\n",
        "            outputs = model(input_ids=input_ids, attention_mask=attention_mask)\n",
        "            cls_embeddings = outputs.last_hidden_state[:, 0, :]  # [CLS] token\n",
        "\n",
        "            embeddings.append(cls_embeddings.cpu())\n",
        "\n",
        "    return torch.cat(embeddings, dim=0).numpy()\n"
      ]
    },
    {
      "cell_type": "markdown",
      "id": "962c1abc",
      "metadata": {
        "id": "962c1abc"
      },
      "source": [
        "Funciones"
      ]
    },
    {
      "cell_type": "code",
      "execution_count": 26,
      "id": "5943c789",
      "metadata": {
        "id": "5943c789"
      },
      "outputs": [],
      "source": [
        "from collections import Counter"
      ]
    },
    {
      "cell_type": "code",
      "execution_count": 27,
      "id": "7878f553",
      "metadata": {
        "id": "7878f553"
      },
      "outputs": [
        {
          "name": "stdout",
          "output_type": "stream",
          "text": [
            "➡️ Ingeniería de metadatos...\n"
          ]
        }
      ],
      "source": [
        "df_metadata, scaler = feature_engineering(df_metadata)\n",
        "\n",
        "print(\"➡️ Ingeniería de metadatos...\")\n",
        "X_metadata, _ = generar_embeddings(df_metadata)\n"
      ]
    },
    {
      "cell_type": "code",
      "execution_count": 28,
      "id": "79c9fc36",
      "metadata": {
        "id": "79c9fc36"
      },
      "outputs": [
        {
          "name": "stdout",
          "output_type": "stream",
          "text": [
            "➡️ # Embeddings heurísticos...\n"
          ]
        }
      ],
      "source": [
        "# Embeddings heurísticos (ya los tienes)\n",
        "print(\"➡️ # Embeddings heurísticos...\")\n",
        "X_heuristico = generar_embedding_heuristico(df_heuristica, df_diccionario)\n",
        "\n",
        "# 4. Normalización\n",
        "scaler_heuristic = StandardScaler()\n",
        "X_heuristico_scaled = scaler_heuristic.fit_transform(X_heuristico)"
      ]
    },
    {
      "cell_type": "code",
      "execution_count": 35,
      "id": "da0b3669",
      "metadata": {
        "id": "da0b3669"
      },
      "outputs": [
        {
          "name": "stderr",
          "output_type": "stream",
          "text": [
            "Generando embeddings BERT (CPU): 100%|██████████| 213/213 [26:18<00:00,  7.41s/it]\n"
          ]
        }
      ],
      "source": [
        "# 3. Tokenizer y modelo BERT\n",
        "tokenizer = DistilBertTokenizer.from_pretrained('distilbert-base-multilingual-cased')\n",
        "model_bert = DistilBertModel.from_pretrained('distilbert-base-multilingual-cased')\n",
        "X_bert = generar_embedding_bert(df, tokenizer, model_bert)\n",
        "scaler_bert = StandardScaler()\n",
        "X_bert_scaled = scaler_bert.fit_transform(X_bert)"
      ]
    },
    {
      "cell_type": "code",
      "execution_count": 36,
      "id": "dbb85a07",
      "metadata": {
        "id": "dbb85a07"
      },
      "outputs": [
        {
          "name": "stdout",
          "output_type": "stream",
          "text": [
            "(6800, 768)\n",
            "(6800, 90)\n",
            "(6800, 9)\n"
          ]
        }
      ],
      "source": [
        "print(X_bert_scaled.shape)\n",
        "print(X_metadata.shape)\n",
        "print(X_heuristico_scaled.shape)"
      ]
    },
    {
      "cell_type": "code",
      "execution_count": 37,
      "id": "fce527b9",
      "metadata": {
        "id": "fce527b9"
      },
      "outputs": [],
      "source": [
        "# --- Columnas numéricas usadas en el entrenamiento ---\n",
        "col_num = ['longitud', 'longitud_titulo', 'exclamaciones', 'interrogaciones',\n",
        "           'palabras_sensacionalistas', 'noticias_autor', 'relacion_titulo_contenido']\n",
        "\n",
        "# Escalar columnas numéricas\n",
        "X_num = df_metadata[col_num].values\n",
        "scaler = StandardScaler()\n",
        "X_num_scaled = scaler.fit_transform(X_num)\n",
        "\n",
        "# Variables cíclicas (sin escalar)\n",
        "X_ciclicas = df_metadata[['mes_sin', 'mes_cos', 'dia_sin', 'dia_cos']].values\n",
        "\n",
        "# OneHotEncoding para autor\n",
        "ohe = OneHotEncoder(sparse_output=False, handle_unknown='ignore')\n",
        "X_autor = ohe.fit_transform(df_metadata[['autor']])\n",
        "\n",
        "# Concatenar todo\n",
        "X_metadata = np.concatenate([X_num_scaled, X_ciclicas, X_autor], axis=1)\n",
        "\n",
        "# Guardar los transformadores para usar en predicción\n",
        "import joblib\n",
        "joblib.dump(scaler, 'scaler_metadata.pkl')\n",
        "joblib.dump(ohe, 'encoder_autor.pkl')\n",
        "\n",
        "X_bert = scaler_bert.transform(X_bert)\n",
        "X_heuristico = scaler_heuristic.transform(X_heuristico)"
      ]
    },
    {
      "cell_type": "code",
      "execution_count": 38,
      "id": "3de12d74",
      "metadata": {
        "id": "3de12d74"
      },
      "outputs": [],
      "source": [
        "X_final = np.concatenate([X_bert_scaled, X_metadata, X_heuristico_scaled], axis=1)"
      ]
    },
    {
      "cell_type": "code",
      "execution_count": 39,
      "id": "b7f02c10",
      "metadata": {
        "id": "b7f02c10"
      },
      "outputs": [
        {
          "data": {
            "text/plain": [
              "['encoder_autor.pkl']"
            ]
          },
          "execution_count": 39,
          "metadata": {},
          "output_type": "execute_result"
        }
      ],
      "source": [
        "np.save('X_finalv3.npy', X_final)\n",
        "import joblib\n",
        "\n",
        "joblib.dump(scaler, 'scaler_metadata.pkl')\n",
        "joblib.dump(scaler_bert, 'scaler_bert.pkl')\n",
        "joblib.dump(scaler_heuristic, 'scaler_heuristic.pkl')\n",
        "joblib.dump(ohe, 'encoder_autor.pkl')\n",
        "\n"
      ]
    },
    {
      "cell_type": "code",
      "execution_count": 40,
      "id": "f162fb7f",
      "metadata": {
        "id": "f162fb7f"
      },
      "outputs": [],
      "source": [
        "y = df['label'].values"
      ]
    },
    {
      "cell_type": "code",
      "execution_count": 41,
      "id": "fe8cb6ce",
      "metadata": {
        "id": "fe8cb6ce"
      },
      "outputs": [
        {
          "name": "stdout",
          "output_type": "stream",
          "text": [
            "[[ 0.11977391  0.71667534  0.12515013 ...  1.00167785  0.01180985\n",
            "  -0.68931942]\n",
            " [ 0.19152783  0.71373039 -0.11108863 ... -0.36438697 -0.66726121\n",
            "  -0.15469005]\n",
            " [ 0.93111658  0.4849709  -0.12856814 ... -0.25930506 -0.45357976\n",
            "  -0.71839122]\n",
            " ...\n",
            " [ 0.54398692  0.07796322 -0.29442298 ...  0.79151403 -0.1913742\n",
            "  -0.65417084]\n",
            " [-1.31734288 -1.33933556 -2.40685725 ... -0.46946888 -0.94379014\n",
            "   0.44032786]\n",
            " [-1.82116973 -1.62924075 -1.52163076 ... -0.36438697  0.2545019\n",
            "  -0.28580276]]\n"
          ]
        }
      ],
      "source": [
        "print(X_final)"
      ]
    },
    {
      "cell_type": "code",
      "execution_count": 42,
      "id": "550fcebf",
      "metadata": {
        "id": "550fcebf"
      },
      "outputs": [],
      "source": [
        "# Primera división\n",
        "X_train, X_temp, y_train, y_temp = train_test_split(\n",
        "    X_final, y,\n",
        "    test_size=0.30,\n",
        "    random_state=42,\n",
        "    stratify=y\n",
        ")\n",
        "\n",
        "# Segunda división\n",
        "X_val, X_test, y_val, y_test = train_test_split(\n",
        "    X_temp, y_temp,\n",
        "    test_size=0.50,\n",
        "    random_state=42,\n",
        "    stratify=y_temp\n",
        ")"
      ]
    },
    {
      "cell_type": "code",
      "execution_count": 43,
      "id": "cce9db64",
      "metadata": {
        "id": "cce9db64"
      },
      "outputs": [
        {
          "name": "stderr",
          "output_type": "stream",
          "text": [
            "c:\\Users\\sebas\\AppData\\Local\\Programs\\Python\\Python312\\Lib\\site-packages\\keras\\src\\layers\\core\\dense.py:93: UserWarning: Do not pass an `input_shape`/`input_dim` argument to a layer. When using Sequential models, prefer using an `Input(shape)` object as the first layer in the model instead.\n",
            "  super().__init__(activity_regularizer=activity_regularizer, **kwargs)\n"
          ]
        },
        {
          "name": "stdout",
          "output_type": "stream",
          "text": [
            "Epoch 1/100\n",
            "\u001b[1m280/298\u001b[0m \u001b[32m━━━━━━━━━━━━━━━━━━\u001b[0m\u001b[37m━━\u001b[0m \u001b[1m0s\u001b[0m 2ms/step - accuracy: 0.7396 - loss: 0.6188\n",
            "Epoch 1: val_loss improved from inf to 0.32747, saving model to mejor_modelo_val_loss.h5\n"
          ]
        },
        {
          "name": "stderr",
          "output_type": "stream",
          "text": [
            "WARNING:absl:You are saving your model as an HDF5 file via `model.save()` or `keras.saving.save_model(model)`. This file format is considered legacy. We recommend using instead the native Keras format, e.g. `model.save('my_model.keras')` or `keras.saving.save_model(model, 'my_model.keras')`. \n"
          ]
        },
        {
          "name": "stdout",
          "output_type": "stream",
          "text": [
            "\u001b[1m298/298\u001b[0m \u001b[32m━━━━━━━━━━━━━━━━━━━━\u001b[0m\u001b[37m\u001b[0m \u001b[1m2s\u001b[0m 3ms/step - accuracy: 0.7424 - loss: 0.6136 - val_accuracy: 0.8588 - val_loss: 0.3275\n",
            "Epoch 2/100\n",
            "\u001b[1m271/298\u001b[0m \u001b[32m━━━━━━━━━━━━━━━━━━\u001b[0m\u001b[37m━━\u001b[0m \u001b[1m0s\u001b[0m 2ms/step - accuracy: 0.8309 - loss: 0.3965\n",
            "Epoch 2: val_loss improved from 0.32747 to 0.28697, saving model to mejor_modelo_val_loss.h5\n"
          ]
        },
        {
          "name": "stderr",
          "output_type": "stream",
          "text": [
            "WARNING:absl:You are saving your model as an HDF5 file via `model.save()` or `keras.saving.save_model(model)`. This file format is considered legacy. We recommend using instead the native Keras format, e.g. `model.save('my_model.keras')` or `keras.saving.save_model(model, 'my_model.keras')`. \n"
          ]
        },
        {
          "name": "stdout",
          "output_type": "stream",
          "text": [
            "\u001b[1m298/298\u001b[0m \u001b[32m━━━━━━━━━━━━━━━━━━━━\u001b[0m\u001b[37m\u001b[0m \u001b[1m1s\u001b[0m 2ms/step - accuracy: 0.8314 - loss: 0.3940 - val_accuracy: 0.8696 - val_loss: 0.2870\n",
            "Epoch 3/100\n",
            "\u001b[1m280/298\u001b[0m \u001b[32m━━━━━━━━━━━━━━━━━━\u001b[0m\u001b[37m━━\u001b[0m \u001b[1m0s\u001b[0m 2ms/step - accuracy: 0.8468 - loss: 0.3033\n",
            "Epoch 3: val_loss improved from 0.28697 to 0.27066, saving model to mejor_modelo_val_loss.h5\n"
          ]
        },
        {
          "name": "stderr",
          "output_type": "stream",
          "text": [
            "WARNING:absl:You are saving your model as an HDF5 file via `model.save()` or `keras.saving.save_model(model)`. This file format is considered legacy. We recommend using instead the native Keras format, e.g. `model.save('my_model.keras')` or `keras.saving.save_model(model, 'my_model.keras')`. \n"
          ]
        },
        {
          "name": "stdout",
          "output_type": "stream",
          "text": [
            "\u001b[1m298/298\u001b[0m \u001b[32m━━━━━━━━━━━━━━━━━━━━\u001b[0m\u001b[37m\u001b[0m \u001b[1m1s\u001b[0m 2ms/step - accuracy: 0.8467 - loss: 0.3036 - val_accuracy: 0.8784 - val_loss: 0.2707\n",
            "Epoch 4/100\n",
            "\u001b[1m267/298\u001b[0m \u001b[32m━━━━━━━━━━━━━━━━━\u001b[0m\u001b[37m━━━\u001b[0m \u001b[1m0s\u001b[0m 2ms/step - accuracy: 0.8610 - loss: 0.2888\n",
            "Epoch 4: val_loss improved from 0.27066 to 0.26725, saving model to mejor_modelo_val_loss.h5\n"
          ]
        },
        {
          "name": "stderr",
          "output_type": "stream",
          "text": [
            "WARNING:absl:You are saving your model as an HDF5 file via `model.save()` or `keras.saving.save_model(model)`. This file format is considered legacy. We recommend using instead the native Keras format, e.g. `model.save('my_model.keras')` or `keras.saving.save_model(model, 'my_model.keras')`. \n"
          ]
        },
        {
          "name": "stdout",
          "output_type": "stream",
          "text": [
            "\u001b[1m298/298\u001b[0m \u001b[32m━━━━━━━━━━━━━━━━━━━━\u001b[0m\u001b[37m\u001b[0m \u001b[1m1s\u001b[0m 2ms/step - accuracy: 0.8605 - loss: 0.2900 - val_accuracy: 0.8843 - val_loss: 0.2672\n",
            "Epoch 5/100\n",
            "\u001b[1m266/298\u001b[0m \u001b[32m━━━━━━━━━━━━━━━━━\u001b[0m\u001b[37m━━━\u001b[0m \u001b[1m0s\u001b[0m 2ms/step - accuracy: 0.8731 - loss: 0.2757\n",
            "Epoch 5: val_loss improved from 0.26725 to 0.24981, saving model to mejor_modelo_val_loss.h5\n"
          ]
        },
        {
          "name": "stderr",
          "output_type": "stream",
          "text": [
            "WARNING:absl:You are saving your model as an HDF5 file via `model.save()` or `keras.saving.save_model(model)`. This file format is considered legacy. We recommend using instead the native Keras format, e.g. `model.save('my_model.keras')` or `keras.saving.save_model(model, 'my_model.keras')`. \n"
          ]
        },
        {
          "name": "stdout",
          "output_type": "stream",
          "text": [
            "\u001b[1m298/298\u001b[0m \u001b[32m━━━━━━━━━━━━━━━━━━━━\u001b[0m\u001b[37m\u001b[0m \u001b[1m1s\u001b[0m 2ms/step - accuracy: 0.8726 - loss: 0.2767 - val_accuracy: 0.8863 - val_loss: 0.2498\n",
            "Epoch 6/100\n",
            "\u001b[1m276/298\u001b[0m \u001b[32m━━━━━━━━━━━━━━━━━━\u001b[0m\u001b[37m━━\u001b[0m \u001b[1m0s\u001b[0m 2ms/step - accuracy: 0.8654 - loss: 0.2774\n",
            "Epoch 6: val_loss did not improve from 0.24981\n",
            "\u001b[1m298/298\u001b[0m \u001b[32m━━━━━━━━━━━━━━━━━━━━\u001b[0m\u001b[37m\u001b[0m \u001b[1m1s\u001b[0m 2ms/step - accuracy: 0.8654 - loss: 0.2772 - val_accuracy: 0.8873 - val_loss: 0.2604\n",
            "Epoch 7/100\n",
            "\u001b[1m288/298\u001b[0m \u001b[32m━━━━━━━━━━━━━━━━━━━\u001b[0m\u001b[37m━\u001b[0m \u001b[1m0s\u001b[0m 1ms/step - accuracy: 0.8633 - loss: 0.2711\n",
            "Epoch 7: val_loss did not improve from 0.24981\n",
            "\u001b[1m298/298\u001b[0m \u001b[32m━━━━━━━━━━━━━━━━━━━━\u001b[0m\u001b[37m\u001b[0m \u001b[1m1s\u001b[0m 2ms/step - accuracy: 0.8635 - loss: 0.2710 - val_accuracy: 0.8814 - val_loss: 0.2585\n",
            "Epoch 8/100\n",
            "\u001b[1m281/298\u001b[0m \u001b[32m━━━━━━━━━━━━━━━━━━\u001b[0m\u001b[37m━━\u001b[0m \u001b[1m0s\u001b[0m 1ms/step - accuracy: 0.8641 - loss: 0.2705\n",
            "Epoch 8: val_loss did not improve from 0.24981\n",
            "\u001b[1m298/298\u001b[0m \u001b[32m━━━━━━━━━━━━━━━━━━━━\u001b[0m\u001b[37m\u001b[0m \u001b[1m1s\u001b[0m 2ms/step - accuracy: 0.8645 - loss: 0.2700 - val_accuracy: 0.8853 - val_loss: 0.2548\n",
            "Epoch 9/100\n",
            "\u001b[1m287/298\u001b[0m \u001b[32m━━━━━━━━━━━━━━━━━━━\u001b[0m\u001b[37m━\u001b[0m \u001b[1m0s\u001b[0m 1ms/step - accuracy: 0.8701 - loss: 0.2633\n",
            "Epoch 9: val_loss did not improve from 0.24981\n",
            "\u001b[1m298/298\u001b[0m \u001b[32m━━━━━━━━━━━━━━━━━━━━\u001b[0m\u001b[37m\u001b[0m \u001b[1m1s\u001b[0m 2ms/step - accuracy: 0.8703 - loss: 0.2632 - val_accuracy: 0.8843 - val_loss: 0.2570\n",
            "Epoch 10/100\n",
            "\u001b[1m290/298\u001b[0m \u001b[32m━━━━━━━━━━━━━━━━━━━\u001b[0m\u001b[37m━\u001b[0m \u001b[1m0s\u001b[0m 1ms/step - accuracy: 0.8792 - loss: 0.2544\n",
            "Epoch 10: val_loss improved from 0.24981 to 0.24663, saving model to mejor_modelo_val_loss.h5\n"
          ]
        },
        {
          "name": "stderr",
          "output_type": "stream",
          "text": [
            "WARNING:absl:You are saving your model as an HDF5 file via `model.save()` or `keras.saving.save_model(model)`. This file format is considered legacy. We recommend using instead the native Keras format, e.g. `model.save('my_model.keras')` or `keras.saving.save_model(model, 'my_model.keras')`. \n"
          ]
        },
        {
          "name": "stdout",
          "output_type": "stream",
          "text": [
            "\u001b[1m298/298\u001b[0m \u001b[32m━━━━━━━━━━━━━━━━━━━━\u001b[0m\u001b[37m\u001b[0m \u001b[1m1s\u001b[0m 2ms/step - accuracy: 0.8791 - loss: 0.2544 - val_accuracy: 0.8922 - val_loss: 0.2466\n",
            "Epoch 11/100\n",
            "\u001b[1m294/298\u001b[0m \u001b[32m━━━━━━━━━━━━━━━━━━━\u001b[0m\u001b[37m━\u001b[0m \u001b[1m0s\u001b[0m 2ms/step - accuracy: 0.8771 - loss: 0.2471\n",
            "Epoch 11: val_loss did not improve from 0.24663\n",
            "\u001b[1m298/298\u001b[0m \u001b[32m━━━━━━━━━━━━━━━━━━━━\u001b[0m\u001b[37m\u001b[0m \u001b[1m1s\u001b[0m 2ms/step - accuracy: 0.8770 - loss: 0.2473 - val_accuracy: 0.8775 - val_loss: 0.2589\n",
            "Epoch 12/100\n",
            "\u001b[1m281/298\u001b[0m \u001b[32m━━━━━━━━━━━━━━━━━━\u001b[0m\u001b[37m━━\u001b[0m \u001b[1m0s\u001b[0m 1ms/step - accuracy: 0.8646 - loss: 0.2603\n",
            "Epoch 12: val_loss did not improve from 0.24663\n",
            "\u001b[1m298/298\u001b[0m \u001b[32m━━━━━━━━━━━━━━━━━━━━\u001b[0m\u001b[37m\u001b[0m \u001b[1m1s\u001b[0m 2ms/step - accuracy: 0.8651 - loss: 0.2598 - val_accuracy: 0.8824 - val_loss: 0.2522\n",
            "Epoch 13/100\n",
            "\u001b[1m276/298\u001b[0m \u001b[32m━━━━━━━━━━━━━━━━━━\u001b[0m\u001b[37m━━\u001b[0m \u001b[1m0s\u001b[0m 1ms/step - accuracy: 0.8888 - loss: 0.2348\n",
            "Epoch 13: val_loss did not improve from 0.24663\n",
            "\u001b[1m298/298\u001b[0m \u001b[32m━━━━━━━━━━━━━━━━━━━━\u001b[0m\u001b[37m\u001b[0m \u001b[1m1s\u001b[0m 2ms/step - accuracy: 0.8883 - loss: 0.2356 - val_accuracy: 0.8755 - val_loss: 0.2602\n",
            "Epoch 14/100\n",
            "\u001b[1m284/298\u001b[0m \u001b[32m━━━━━━━━━━━━━━━━━━━\u001b[0m\u001b[37m━\u001b[0m \u001b[1m0s\u001b[0m 2ms/step - accuracy: 0.8912 - loss: 0.2271\n",
            "Epoch 14: val_loss did not improve from 0.24663\n",
            "\u001b[1m298/298\u001b[0m \u001b[32m━━━━━━━━━━━━━━━━━━━━\u001b[0m\u001b[37m\u001b[0m \u001b[1m1s\u001b[0m 2ms/step - accuracy: 0.8909 - loss: 0.2276 - val_accuracy: 0.8863 - val_loss: 0.2519\n",
            "Epoch 15/100\n",
            "\u001b[1m291/298\u001b[0m \u001b[32m━━━━━━━━━━━━━━━━━━━\u001b[0m\u001b[37m━\u001b[0m \u001b[1m0s\u001b[0m 2ms/step - accuracy: 0.8805 - loss: 0.2307\n",
            "Epoch 15: val_loss did not improve from 0.24663\n",
            "\u001b[1m298/298\u001b[0m \u001b[32m━━━━━━━━━━━━━━━━━━━━\u001b[0m\u001b[37m\u001b[0m \u001b[1m1s\u001b[0m 2ms/step - accuracy: 0.8804 - loss: 0.2309 - val_accuracy: 0.8922 - val_loss: 0.2567\n",
            "Epoch 16/100\n",
            "\u001b[1m289/298\u001b[0m \u001b[32m━━━━━━━━━━━━━━━━━━━\u001b[0m\u001b[37m━\u001b[0m \u001b[1m0s\u001b[0m 2ms/step - accuracy: 0.8804 - loss: 0.2349\n",
            "Epoch 16: val_loss did not improve from 0.24663\n",
            "\u001b[1m298/298\u001b[0m \u001b[32m━━━━━━━━━━━━━━━━━━━━\u001b[0m\u001b[37m\u001b[0m \u001b[1m1s\u001b[0m 2ms/step - accuracy: 0.8804 - loss: 0.2349 - val_accuracy: 0.8784 - val_loss: 0.2568\n",
            "Epoch 17/100\n",
            "\u001b[1m297/298\u001b[0m \u001b[32m━━━━━━━━━━━━━━━━━━━\u001b[0m\u001b[37m━\u001b[0m \u001b[1m0s\u001b[0m 2ms/step - accuracy: 0.8885 - loss: 0.2277\n",
            "Epoch 17: val_loss did not improve from 0.24663\n",
            "\u001b[1m298/298\u001b[0m \u001b[32m━━━━━━━━━━━━━━━━━━━━\u001b[0m\u001b[37m\u001b[0m \u001b[1m1s\u001b[0m 3ms/step - accuracy: 0.8885 - loss: 0.2277 - val_accuracy: 0.8843 - val_loss: 0.2498\n",
            "Epoch 18/100\n",
            "\u001b[1m283/298\u001b[0m \u001b[32m━━━━━━━━━━━━━━━━━━\u001b[0m\u001b[37m━━\u001b[0m \u001b[1m0s\u001b[0m 2ms/step - accuracy: 0.8822 - loss: 0.2345\n",
            "Epoch 18: val_loss did not improve from 0.24663\n",
            "\u001b[1m298/298\u001b[0m \u001b[32m━━━━━━━━━━━━━━━━━━━━\u001b[0m\u001b[37m\u001b[0m \u001b[1m1s\u001b[0m 3ms/step - accuracy: 0.8825 - loss: 0.2342 - val_accuracy: 0.8833 - val_loss: 0.2509\n",
            "Epoch 19/100\n",
            "\u001b[1m293/298\u001b[0m \u001b[32m━━━━━━━━━━━━━━━━━━━\u001b[0m\u001b[37m━\u001b[0m \u001b[1m0s\u001b[0m 2ms/step - accuracy: 0.8831 - loss: 0.2285\n",
            "Epoch 19: val_loss did not improve from 0.24663\n",
            "\u001b[1m298/298\u001b[0m \u001b[32m━━━━━━━━━━━━━━━━━━━━\u001b[0m\u001b[37m\u001b[0m \u001b[1m1s\u001b[0m 2ms/step - accuracy: 0.8832 - loss: 0.2284 - val_accuracy: 0.8853 - val_loss: 0.2635\n",
            "Epoch 20/100\n",
            "\u001b[1m293/298\u001b[0m \u001b[32m━━━━━━━━━━━━━━━━━━━\u001b[0m\u001b[37m━\u001b[0m \u001b[1m0s\u001b[0m 2ms/step - accuracy: 0.8895 - loss: 0.2223\n",
            "Epoch 20: val_loss did not improve from 0.24663\n",
            "\u001b[1m298/298\u001b[0m \u001b[32m━━━━━━━━━━━━━━━━━━━━\u001b[0m\u001b[37m\u001b[0m \u001b[1m1s\u001b[0m 2ms/step - accuracy: 0.8895 - loss: 0.2223 - val_accuracy: 0.8833 - val_loss: 0.2668\n"
          ]
        }
      ],
      "source": [
        "from tensorflow.keras.models import Sequential\n",
        "from tensorflow.keras.layers import Dense, Dropout\n",
        "from tensorflow.keras.callbacks import EarlyStopping, ModelCheckpoint\n",
        "from tensorflow.keras.optimizers import Adam\n",
        "\n",
        "# --- Hiperparámetros ---\n",
        "input_dim = X_train.shape[1]\n",
        "dropout_rate = 0.3\n",
        "learning_rate = 0.001\n",
        "batch_size = 16\n",
        "epochs = 100\n",
        "patience = 10\n",
        "\n",
        "# --- Modelo ---\n",
        "model = Sequential([\n",
        "    Dense(128, activation='relu', input_shape=(X_train.shape[1],)),\n",
        "    Dropout(0.4),\n",
        "    Dense(64, activation='relu'),\n",
        "    Dropout(0.4),\n",
        "    Dense(1, activation='sigmoid')\n",
        "])\n",
        "\n",
        "# --- Compilación ---\n",
        "optimizer = Adam(learning_rate=learning_rate)\n",
        "model.compile(\n",
        "    optimizer=optimizer,\n",
        "    loss='binary_crossentropy',\n",
        "    metrics=['accuracy']\n",
        ")\n",
        "\n",
        "# --- Callbacks ---\n",
        "early_stop = EarlyStopping(\n",
        "    monitor='val_loss',\n",
        "    patience=patience,\n",
        "    restore_best_weights=True\n",
        ")\n",
        "\n",
        "model_checkpoint = ModelCheckpoint(\n",
        "    filepath='mejor_modelo_val_loss.h5',  # Se guarda en la misma carpeta\n",
        "    monitor='val_loss',\n",
        "    mode='min',\n",
        "    save_best_only=True,\n",
        "    verbose=1\n",
        ")\n",
        "\n",
        "# --- Entrenamiento ---\n",
        "history = model.fit(\n",
        "    X_train, y_train,\n",
        "    validation_data=(X_val, y_val),\n",
        "    epochs=epochs,\n",
        "    batch_size=batch_size,\n",
        "    callbacks=[early_stop, model_checkpoint],\n",
        "    verbose=1\n",
        ")\n"
      ]
    },
    {
      "cell_type": "code",
      "execution_count": 45,
      "id": "c797a15d",
      "metadata": {},
      "outputs": [
        {
          "name": "stdout",
          "output_type": "stream",
          "text": [
            "Collecting matplotlib_inline\n",
            "  Using cached matplotlib_inline-0.1.7-py3-none-any.whl.metadata (3.9 kB)\n",
            "Requirement already satisfied: traitlets in c:\\users\\sebas\\appdata\\roaming\\python\\python312\\site-packages (from matplotlib_inline) (5.14.3)\n",
            "Using cached matplotlib_inline-0.1.7-py3-none-any.whl (9.9 kB)\n",
            "Installing collected packages: matplotlib_inline\n",
            "Successfully installed matplotlib_inline-0.1.7\n"
          ]
        }
      ],
      "source": [
        "!pip install matplotlib_inline\n"
      ]
    },
    {
      "cell_type": "code",
      "execution_count": 46,
      "id": "fa7b7ad6",
      "metadata": {
        "id": "fa7b7ad6"
      },
      "outputs": [
        {
          "data": {
            "image/png": "[encoded data removed]",
            "text/plain": [
              "<Figure size 1200x500 with 2 Axes>"
            ]
          },
          "metadata": {},
          "output_type": "display_data"
        }
      ],
      "source": [
        "import matplotlib.pyplot as plt\n",
        "\n",
        "# --- Pérdida ---\n",
        "plt.figure(figsize=(12, 5))\n",
        "\n",
        "plt.subplot(1, 2, 1)\n",
        "plt.plot(history.history['loss'], label='Entrenamiento')\n",
        "plt.plot(history.history['val_loss'], label='Validación')\n",
        "plt.title('Pérdida durante el entrenamiento')\n",
        "plt.xlabel('Épocas')\n",
        "plt.ylabel('Pérdida')\n",
        "plt.legend()\n",
        "plt.grid(True)\n",
        "\n",
        "# --- Precisión ---\n",
        "plt.subplot(1, 2, 2)\n",
        "plt.plot(history.history['accuracy'], label='Entrenamiento')\n",
        "plt.plot(history.history['val_accuracy'], label='Validación')\n",
        "plt.title('Precisión durante el entrenamiento')\n",
        "plt.xlabel('Épocas')\n",
        "plt.ylabel('Precisión')\n",
        "plt.legend()\n",
        "plt.grid(True)\n",
        "\n",
        "plt.tight_layout()\n",
        "plt.show()\n"
      ]
    },
    {
      "cell_type": "code",
      "execution_count": 47,
      "id": "a2f0d23a",
      "metadata": {
        "id": "a2f0d23a"
      },
      "outputs": [
        {
          "name": "stdout",
          "output_type": "stream",
          "text": [
            "\u001b[1m32/32\u001b[0m \u001b[32m━━━━━━━━━━━━━━━━━━━━\u001b[0m\u001b[37m\u001b[0m \u001b[1m0s\u001b[0m 2ms/step\n",
            "Classification Report:\n",
            "              precision    recall  f1-score   support\n",
            "\n",
            "           0       0.85      0.89      0.87       527\n",
            "           1       0.88      0.83      0.85       493\n",
            "\n",
            "    accuracy                           0.86      1020\n",
            "   macro avg       0.86      0.86      0.86      1020\n",
            "weighted avg       0.86      0.86      0.86      1020\n",
            "\n"
          ]
        },
        {
          "data": {
            "image/png": "[encoded data removed]",
            "text/plain": [
              "<Figure size 600x600 with 2 Axes>"
            ]
          },
          "metadata": {},
          "output_type": "display_data"
        },
        {
          "data": {
            "image/png": "[encoded data removed]",
            "text/plain": [
              "<Figure size 800x600 with 1 Axes>"
            ]
          },
          "metadata": {},
          "output_type": "display_data"
        }
      ],
      "source": [
        "from sklearn.metrics import roc_curve  # Añade esta importación\n",
        "from sklearn.metrics import classification_report, confusion_matrix, roc_auc_score\n",
        "import seaborn as sns\n",
        "import matplotlib.pyplot as plt\n",
        "\n",
        "# Predicciones en el conjunto de test\n",
        "y_pred = model.predict(X_test).ravel()\n",
        "y_pred_classes = (y_pred > 0.5).astype(\"int32\")\n",
        "\n",
        "# Reporte de clasificación\n",
        "print(\"Classification Report:\")\n",
        "print(classification_report(y_test, y_pred_classes))\n",
        "\n",
        "# Matriz de confusión\n",
        "cm = confusion_matrix(y_test, y_pred_classes)\n",
        "plt.figure(figsize=(6,6))\n",
        "sns.heatmap(cm, annot=True, fmt='d', cmap='Blues')\n",
        "plt.xlabel('Predicho')\n",
        "plt.ylabel('Real')\n",
        "plt.title('Matriz de Confusión')\n",
        "plt.show()\n",
        "\n",
        "# Curva ROC y AUC\n",
        "fpr, tpr, thresholds = roc_curve(y_test, y_pred)\n",
        "plt.figure(figsize=(8,6))\n",
        "plt.plot(fpr, tpr, label=f'AUC = {roc_auc_score(y_test, y_pred):.2f}')\n",
        "plt.plot([0, 1], [0, 1], 'k--')\n",
        "plt.xlabel('Tasa de Falsos Positivos')\n",
        "plt.ylabel('Tasa de Verdaderos Positivos')\n",
        "plt.title('Curva ROC')\n",
        "plt.legend()\n",
        "plt.show()"
      ]
    },
    {
      "cell_type": "code",
      "execution_count": 48,
      "id": "7fcfd15c",
      "metadata": {
        "id": "7fcfd15c"
      },
      "outputs": [],
      "source": [
        "def ingresar_y_clasificar_noticia():\n",
        "    print(\"📰 Analizando noticia de ejemplo...\\n\")\n",
        "\n",
        "    noticia = {\n",
        "    'titulo': ['Expulsan a una joven de 16 años de un instituto en Cataluña por hablar español… ¡en una clase de lengua española!'],\n",
        "    'autor': ['alertadigital'],\n",
        "    'fecha': ['05-04-2019'],\n",
        "    'contenido': [\"\"\"\n",
        "Expulsan a una joven de 16 años de un instituto en Cataluña por hablar español… ¡en una clase de lengua española!\n",
        "\n",
        "Una madre ha denunciado ante el Defensor del Pueblo catalán «Sindic de Greuges» la expulsión de su hija de 16 años de un centro de enseñanzas medias de la provincia de Barcelona por hablar en español.\n",
        "\n",
        "Según afirma la madre de la joven expulsada, la clase era de español; aún así, la profesora la estaba impartiendo en catalán y exigió a los alumnos que hablaran en esa lengua. La respuesta de la estudiante fue rotunda: “No voy a hablar en catalán porque estamos en clase de español”.\n",
        "\n",
        "La reacción de la dirección del centro no se hizo esperar: la joven de 16 años ha sido expulsada hasta después de Semana Santa.\n",
        "\n",
        "Los hechos, que se produjeron ayer jueves 4 de abril, prueba, en opinión de la denunciante, la persecución ideológica en los centros educativos catalanes.\n",
        "\n",
        "“No se puede consentir que porque nuestra lengua no sea la catalana, nos miren y nos traten como gentuza y ni siquiera quieran atendernos”, denuncia la madre de la alumna expulsada. Y añade: “No podemos permitir que en el siglo XXI te impongan el idioma que debes hablar, cuando el idioma más hablado en Cataluña, mal que le pese, es el español”.\n",
        "    \"\"\"]\n",
        "}\n",
        "\n",
        "\n",
        "\n",
        "\n",
        "\n",
        "\n",
        "    df_noticia = pd.DataFrame(noticia)\n",
        "    print(\"\\n🔍 Procesando la noticia...\")\n",
        "\n",
        "    try:\n",
        "        # --- Cargar transformadores ---\n",
        "        import joblib\n",
        "        scaler = joblib.load('scaler_metadata.pkl')\n",
        "        scaler_bert = joblib.load('scaler_bert.pkl')\n",
        "        scaler_heuristic = joblib.load('scaler_heuristic.pkl')\n",
        "        ohe = joblib.load('encoder_autor.pkl')\n",
        "\n",
        "        # --- Heurísticas ---\n",
        "        X_heuristico = generar_embedding_heuristico(df_noticia.copy(), df_diccionario)\n",
        "        X_heuristico = scaler_heuristic.transform(X_heuristico)\n",
        "\n",
        "        # --- Metadata ---\n",
        "        df_meta, _ = feature_engineering(df_noticia.copy())\n",
        "\n",
        "        # Escalar solo las columnas numéricas\n",
        "        col_num = ['longitud', 'longitud_titulo', 'exclamaciones', 'interrogaciones',\n",
        "                   'palabras_sensacionalistas', 'noticias_autor', 'relacion_titulo_contenido']\n",
        "        X_num = df_meta[col_num].values\n",
        "        X_num_scaled = scaler.transform(X_num)\n",
        "\n",
        "        # Variables cíclicas\n",
        "        X_ciclicas = df_meta[['mes_sin', 'mes_cos', 'dia_sin', 'dia_cos']].values\n",
        "\n",
        "        # Autor (OHE)\n",
        "        X_autor = ohe.transform(df_meta[['autor']])\n",
        "\n",
        "        # Concatenar metadata\n",
        "        X_metadata = np.concatenate([X_num_scaled, X_ciclicas, X_autor], axis=1)\n",
        "\n",
        "        # --- BERT ---\n",
        "        df_noticia['contenido_limpio'] = df_noticia['contenido'].apply(limpiar_texto)\n",
        "        inputs = tokenizer(\n",
        "            df_noticia['contenido_limpio'].iloc[0],\n",
        "            return_tensors='pt',\n",
        "            truncation=True,\n",
        "            padding=True,\n",
        "            max_length=512\n",
        "        )\n",
        "        with torch.no_grad():\n",
        "            outputs = model_bert(**inputs)\n",
        "            X_bert = outputs.last_hidden_state[:, 0, :].squeeze().numpy().reshape(1, -1)\n",
        "        X_bert = scaler_bert.transform(X_bert)\n",
        "\n",
        "        # --- Concatenar todo ---\n",
        "        X_final = np.concatenate([X_bert, X_metadata, X_heuristico], axis=1)\n",
        "\n",
        "        # --- Asegurar dimensiones compatibles ---\n",
        "        required_dim = model.input_shape[1]\n",
        "        if X_final.shape[1] < required_dim:\n",
        "            padding = np.zeros((1, required_dim - X_final.shape[1]))\n",
        "            X_final = np.concatenate([X_final, padding], axis=1)\n",
        "        elif X_final.shape[1] > required_dim:\n",
        "            X_final = X_final[:, :required_dim]\n",
        "\n",
        "        # --- Predicción ---\n",
        "        probabilidad = float(model.predict(X_final, verbose=0)[0][0])\n",
        "        clasificacion = \"Verdadera\" if probabilidad >= 0.5 else \"Falsa\"\n",
        "\n",
        "        # --- Mostrar resultados ---\n",
        "        print(\"\\n📊 Resultados:\")\n",
        "        print(f\"- Probabilidad de ser verdadera: {probabilidad:.2%}\")\n",
        "        print(f\"- Clasificación: {clasificacion}\")\n",
        "\n",
        "        # --- Explicación heurística ---\n",
        "        print(\"\\n🔎 Factores considerados:\")\n",
        "        titulo = df_noticia['titulo'].iloc[0]\n",
        "        contenido = df_noticia['contenido'].iloc[0]\n",
        "        autor = df_noticia['autor'].iloc[0]\n",
        "\n",
        "        coincidencias = len(\n",
        "            set(limpiar_texto(titulo).split()).intersection(\n",
        "                set(limpiar_texto(contenido).split())\n",
        "            )\n",
        "        )\n",
        "        print(f\"- Coincidencias título-contenido: {coincidencias} palabras clave\")\n",
        "\n",
        "        if autor.lower() == \"desconocido\":\n",
        "            print(\"- ⚠️ Autor desconocido (reduce credibilidad)\")\n",
        "\n",
        "        longitud = len(contenido.split())\n",
        "        if longitud < 150:\n",
        "            print(f\"- Contenido corto ({longitud} palabras)\")\n",
        "        elif longitud > 800:\n",
        "            print(f\"- Contenido muy largo ({longitud} palabras)\")\n",
        "        else:\n",
        "            print(f\"- Longitud adecuada ({longitud} palabras)\")\n",
        "\n",
        "        exclamaciones = contenido.count('!')\n",
        "        if exclamaciones > 3:\n",
        "            print(f\"- ⚠️ {exclamaciones} signos de exclamación (posible sensacionalismo)\")\n",
        "\n",
        "        dic_emocional = construir_diccionario_emocional(df_diccionario)\n",
        "        emotividad = calcular_emotividad(contenido, dic_emocional)\n",
        "        emocion = emocion_predominante(contenido, dic_emocional)\n",
        "        print(f\"- Score de emotividad: {emotividad:.2f} (emoción predominante: {emocion})\")\n",
        "\n",
        "    except Exception as e:\n",
        "        print(f\"\\n❌ Error al procesar la noticia: {str(e)}\")\n",
        "        print(\"Por favor verifica los datos ingresados e intenta nuevamente.\")\n"
      ]
    },
    {
      "cell_type": "code",
      "execution_count": 64,
      "id": "9a3f8b3a",
      "metadata": {
        "colab": {
          "base_uri": "https://localhost:8080/",
          "height": 141
        },
        "id": "9a3f8b3a",
        "outputId": "96a1e4b9-9c42-4da7-bdc0-3f90a0b2bf79"
      },
      "outputs": [
        {
          "name": "stdout",
          "output_type": "stream",
          "text": [
            "📰 Analizando noticia de ejemplo...\n",
            "\n",
            "\n",
            "🔍 Procesando la noticia...\n",
            "\n",
            "📊 Resultados:\n",
            "- Probabilidad de ser verdadera: 19.70%\n",
            "- Clasificación: Falsa\n",
            "\n",
            "🔎 Factores considerados:\n",
            "- Coincidencias título-contenido: 18 palabras clave\n",
            "- Longitud adecuada (218 palabras)\n",
            "- Score de emotividad: 0.11 (emoción predominante: positivo)\n"
          ]
        }
      ],
      "source": [
        "ingresar_y_clasificar_noticia()"
      ]
    },
    {
      "cell_type": "code",
      "execution_count": 62,
      "id": "5579345f",
      "metadata": {},
      "outputs": [
        {
          "name": "stdout",
          "output_type": "stream",
          "text": [
            "✅ Todos los recursos guardados exitosamente\n"
          ]
        }
      ],
      "source": [
        "import joblib\n",
        "import pandas as pd\n",
        "import numpy as np\n",
        "import torch\n",
        "from transformers import DistilBertTokenizer, DistilBertModel\n",
        "\n",
        "def guardar_modelo_y_recursos(modelo, scaler_metadata, scaler_bert, scaler_heuristic, \n",
        "                             ohe_autor, tokenizer, model_bert, df_diccionario,\n",
        "                             funciones_auxiliares):\n",
        "    \"\"\"\n",
        "    Guarda todos los recursos necesarios para hacer predicciones futuras\n",
        "    \n",
        "    Parámetros:\n",
        "    modelo: Modelo Keras entrenado\n",
        "    scaler_metadata: Scaler para características de metadata\n",
        "    scaler_bert: Scaler para embeddings BERT\n",
        "    scaler_heuristic: Scaler para características heurísticas\n",
        "    ohe_autor: OneHotEncoder para autores\n",
        "    tokenizer: Tokenizer de DistilBERT\n",
        "    model_bert: Modelo DistilBERT\n",
        "    df_diccionario: DataFrame con el diccionario emocional\n",
        "    funciones_auxiliares: Diccionario con funciones críticas\n",
        "    \"\"\"\n",
        "    # Guardar modelo Keras\n",
        "    modelo.save('modelo_final.keras')\n",
        "    \n",
        "    # Guardar escaladores y transformadores\n",
        "    joblib.dump(scaler_metadata, 'scaler_metadata.pkl')\n",
        "    joblib.dump(scaler_bert, 'scaler_bert.pkl')\n",
        "    joblib.dump(scaler_heuristic, 'scaler_heuristic.pkl')\n",
        "    joblib.dump(ohe_autor, 'ohe_autor.pkl')\n",
        "    \n",
        "    # Guardar modelo y tokenizer de BERT\n",
        "    tokenizer.save_pretrained('bert_tokenizer')\n",
        "    model_bert.save_pretrained('bert_model')\n",
        "    \n",
        "    # Guardar diccionario emocional\n",
        "    df_diccionario.to_csv('diccionario.csv', index=False)\n",
        "    \n",
        "    # Guardar funciones auxiliares\n",
        "    joblib.dump(funciones_auxiliares, 'funciones_auxiliares.pkl')\n",
        "    \n",
        "    print(\"✅ Todos los recursos guardados exitosamente\")\n",
        "\n",
        "# Ejemplo de uso (al final del entrenamiento):\n",
        "funciones_aux = {\n",
        "    'limpiar_texto': limpiar_texto,\n",
        "    'construir_diccionario_emocional': construir_diccionario_emocional,\n",
        "    'calcular_emotividad': calcular_emotividad,\n",
        "    'emocion_predominante': emocion_predominante,\n",
        "    'feature_engineering': feature_engineering\n",
        "}\n",
        "\n",
        "guardar_modelo_y_recursos(\n",
        "    modelo=model,\n",
        "    scaler_metadata=scaler,\n",
        "    scaler_bert=scaler_bert,\n",
        "    scaler_heuristic=scaler_heuristic,\n",
        "    ohe_autor=ohe,\n",
        "    tokenizer=tokenizer,\n",
        "    model_bert=model_bert,\n",
        "    df_diccionario=df_diccionario,\n",
        "    funciones_auxiliares=funciones_aux\n",
        ")"
      ]
    }
  ],
  "metadata": {
    "colab": {
      "provenance": []
    },
    "kernelspec": {
      "display_name": "Python 3",
      "language": "python",
      "name": "python3"
    },
    "language_info": {
      "codemirror_mode": {
        "name": "ipython",
        "version": 3
      },
      "file_extension": ".py",
      "mimetype": "text/x-python",
      "name": "python",
      "nbconvert_exporter": "python",
      "pygments_lexer": "ipython3",
      "version": "3.12.8"
    }
  },
  "nbformat": 4,
  "nbformat_minor": 5
}
